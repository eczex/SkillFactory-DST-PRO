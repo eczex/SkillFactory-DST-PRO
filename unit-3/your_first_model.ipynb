{
 "cells": [
  {
   "cell_type": "markdown",
   "metadata": {},
   "source": [
    "# Загрузка Pandas и очистка данных"
   ]
  },
  {
   "cell_type": "code",
   "execution_count": 285,
   "metadata": {},
   "outputs": [],
   "source": [
    "import pandas as pd\n",
    "import numpy as np\n",
    "import ast\n",
    "from datetime import datetime as dt\n",
    "import nltk\n",
    "from collections import Counter"
   ]
  },
  {
   "cell_type": "code",
   "execution_count": 286,
   "metadata": {},
   "outputs": [],
   "source": [
    "df = pd.read_csv('https://lms.skillfactory.ru/assets/courseware/v1/c00e440dce1926e20bcf7b959cbeebbb/asset-v1:Skillfactory+DST-PRO+15APR2020+type@asset+block/main_task_new.csv')"
   ]
  },
  {
   "cell_type": "code",
   "execution_count": 287,
   "metadata": {},
   "outputs": [],
   "source": [
    "# Filling NANs in 'Number of Reviews' and making feature of them (last seems senseless, but I feel to lazy to check)\n",
    "df['Number_of_Reviews_isNAN'] = pd.isna(df['Number of Reviews']).astype('uint8')\n",
    "df['Number of Reviews'].fillna(0, inplace=True)"
   ]
  },
  {
   "cell_type": "code",
   "execution_count": 288,
   "metadata": {},
   "outputs": [
    {
     "name": "stderr",
     "output_type": "stream",
     "text": [
      "/var/folders/w2/vwdl1vy167l15y0bhwy601kjhbgjpc/T/ipykernel_84358/28530136.py:37: PerformanceWarning: DataFrame is highly fragmented.  This is usually the result of calling `frame.insert` many times, which has poor performance.  Consider joining all columns at once using pd.concat(axis=1) instead.  To get a de-fragmented frame, use `newframe = frame.copy()`\n",
      "  df[cuisine] = df['Cuisine Style'].fillna('cuisine_style_is_nan').str.contains(cuisine).astype('uint8')\n"
     ]
    }
   ],
   "source": [
    "# Making dummy variables of 'Cuisine Style' and counting them\n",
    "cuisines = []\n",
    "\n",
    "def list_len(list_as_str):\n",
    "    \"\"\"\n",
    "    Counts values in list represented as string.\n",
    "\n",
    "    Parameters:\n",
    "        list_as_str (str): List of single-quoted strings represented as string in Python syntax.\n",
    "    \n",
    "    Returns:\n",
    "        int: Number of values in list.\n",
    "    \"\"\"\n",
    "\n",
    "    return len(list_as_str.strip('[]').replace(\"'\", \"\").split(', '))\n",
    "\n",
    "def get_cuisines_list(list_as_str):\n",
    "    \"\"\"\n",
    "    Extends the 'cuisines' list with the content of list represented as string.\n",
    "\n",
    "    Parameters:\n",
    "        list_as_str (str): List of single-quoted strings represented as string in Python syntax.\n",
    "    \n",
    "    Returns:\n",
    "        None\n",
    "    \"\"\"\n",
    "\n",
    "    cuisines.extend(list_as_str.strip('[]').replace(\"'\", \"\").split(', '))\n",
    "\n",
    "df['cuisine_style_count'] = df['Cuisine Style'].fillna('1').apply(list_len)\n",
    "\n",
    "df['Cuisine Style'].dropna().apply(get_cuisines_list)\n",
    "\n",
    "cuisines = set(cuisines)\n",
    "cuisines.add('cuisine_style_is_nan') # separate feature for NANs\n",
    "for cuisine in set(cuisines):\n",
    "    df[cuisine] = df['Cuisine Style'].fillna('cuisine_style_is_nan').str.contains(cuisine).astype('uint8')"
   ]
  },
  {
   "cell_type": "code",
   "execution_count": 289,
   "metadata": {},
   "outputs": [
    {
     "name": "stderr",
     "output_type": "stream",
     "text": [
      "/var/folders/w2/vwdl1vy167l15y0bhwy601kjhbgjpc/T/ipykernel_84358/606499753.py:2: PerformanceWarning: DataFrame is highly fragmented.  This is usually the result of calling `frame.insert` many times, which has poor performance.  Consider joining all columns at once using pd.concat(axis=1) instead.  To get a de-fragmented frame, use `newframe = frame.copy()`\n",
      "  df['ranking_part_of_max'] = df['Ranking'] / df['City'].map(df.groupby(['City'])['Ranking'].max())\n"
     ]
    }
   ],
   "source": [
    "# Distributing 'Ranking' by it's part of maximum value for each 'City' so it may be compared between cities\n",
    "df['ranking_part_of_max'] = df['Ranking'] / df['City'].map(df.groupby(['City'])['Ranking'].max())"
   ]
  },
  {
   "cell_type": "code",
   "execution_count": 290,
   "metadata": {},
   "outputs": [],
   "source": [
    "# top10_cities = df['City'].value_counts()[0:10].index\n",
    "# df['City TOP 2'] = df['City'].isin(['London', 'Paris'])\n",
    "# df['City TOP 10'] = df['City'].isin(top10_cities)\n",
    "\n",
    "# Making dummy variables of 'City'\n",
    "df = pd.get_dummies(df, columns=[ 'City',], dummy_na=True)"
   ]
  },
  {
   "cell_type": "code",
   "execution_count": 291,
   "metadata": {},
   "outputs": [],
   "source": [
    "# Converting 'Price Range' to number values\n",
    "prices = {\n",
    "    '$': 1, \n",
    "    '$$ - $$$': 2, \n",
    "    '$$$$': 3, \n",
    "}\n",
    "\n",
    "# NANs getting filled with most frequent value that is 2\n",
    "df['Price Range'] = df['Price Range'].map(prices, na_action='ignore').fillna(2)"
   ]
  },
  {
   "cell_type": "code",
   "execution_count": 292,
   "metadata": {},
   "outputs": [],
   "source": [
    "# Making features of first and last review dates counting number \n",
    "# of days from Jan 1 2000 (before TripAdvisor were founded)\n",
    "zero_date = dt(2000, 1, 1, 0, 0, 0)\n",
    "\n",
    "def get_review_date(list_as_str, f=max):\n",
    "    \"\"\"\n",
    "    Extracting date from list of reviews represented as string \n",
    "    and finding maximum or minimum date (or somthing else).\n",
    "\n",
    "    Parameters:\n",
    "        list_as_str (str): List of list of review and it's date \n",
    "        represented as string in Python syntax.\n",
    "        f (callable): Function to apply to list of dates. Default: max.\n",
    "    \n",
    "    Returns:\n",
    "        datetime: Date of last (f=max) or first (f=min) review date.\n",
    "    \"\"\"\n",
    "\n",
    "    # this check for float here is just to run this function in kaggle version of notebook\n",
    "    if type(list_as_str) == float:\n",
    "        list_as_str = 'nan'\n",
    "\n",
    "    list_as_str = list_as_str.replace('nan', \"''\")\n",
    "\n",
    "    if len(list_as_str) > 8:\n",
    "        try:\n",
    "            _, dates_string_list = ast.literal_eval(list_as_str)\n",
    "            return f([dt.strptime(x, '%m/%d/%Y') for x in dates_string_list])\n",
    "        except ValueError:\n",
    "            print(list_as_str)\n",
    "    return zero_date\n",
    "\n",
    "df['first_review'] = (df['Reviews'].apply(get_review_date, args=(min,)) - zero_date).dt.days\n",
    "df['last_review'] = (df['Reviews'].apply(get_review_date) - zero_date).dt.days"
   ]
  },
  {
   "cell_type": "code",
   "execution_count": null,
   "metadata": {},
   "outputs": [],
   "source": [
    "# Making features with counts of positive and nagative words in reviews.\n",
    "# It takes half an hour on my machine to compute. It makes prediction in this \n",
    "# notebook better for ~0.1 percent. But makes worse prediction in kaggle version.\n",
    "\n",
    "# Meaningless words to remove from reviews.\n",
    "stopwords = nltk.corpus.stopwords.words('english')\n",
    "\n",
    "review_words = []\n",
    "tokenizer = nltk.tokenize.RegexpTokenizer(r'\\w+') # Splits by words\n",
    "\n",
    "def get_words(list_as_str, tokenizer, to_list=None, ):\n",
    "    \"\"\"\n",
    "    Extracts valueable words from from list of reviews represented as string.\n",
    "\n",
    "    Parameters:\n",
    "        list_as_str (str): List of list of review and it's date represented as \n",
    "        string in Python syntax.\n",
    "        tokenizer (tokenizer): Instance of RegexpTokenizer class to split string.\n",
    "        to_list (list): List to save extracted words separately (if needed).\n",
    "    \n",
    "    Returns:\n",
    "        dict: Couner of extracted valueable words.\n",
    "    \"\"\"\n",
    "\n",
    "    # this check for float here is just to run this function in kaggle version of notebook\n",
    "    if type(list_as_str) == float:\n",
    "        list_as_str = 'nan'\n",
    "\n",
    "    list_as_str = list_as_str.replace('nan', \"''\")\n",
    "    if len(list_as_str) > 8:\n",
    "        try:\n",
    "            words = []\n",
    "            for review in ast.literal_eval(list_as_str)[0]:\n",
    "                words.extend([x.lower() for x in tokenizer.tokenize(review) if x.lower() not in stopwords])\n",
    "                if to_list is not None:\n",
    "                    to_list.extend(words)\n",
    "            return dict(Counter(words))\n",
    "        except ValueError:\n",
    "            pass\n",
    "    return dict()\n",
    "\n",
    "df['reviews_words'] = df['Reviews'].apply(get_words, args=(tokenizer, ), )\n",
    "\n",
    "# Lists of opinion words.\n",
    "positive_words = nltk.corpus.opinion_lexicon.positive()\n",
    "negative_words = nltk.corpus.opinion_lexicon.negative()\n",
    "\n",
    "def count_opinion_words(words_count_dict, opinion_words_list):\n",
    "    \"\"\"\n",
    "    Counts opinion words in dict with counted words.\n",
    "\n",
    "    Parameters:\n",
    "        words_count_dict (dict): Counter of words.\n",
    "        opinion_words_list (list): List of opinion words to count.\n",
    "    \n",
    "    Returns:\n",
    "        int: Number of words in words_count_dict contained in opinion_words_list.\n",
    "    \"\"\"\n",
    "    \n",
    "    return sum([count for word, count in words_count_dict.items() if word in opinion_words_list])\n",
    "\n",
    "df['positive_words_count'] = df['reviews_words'].apply(count_opinion_words, args=(positive_words, ), )\n",
    "df['negative_words_count'] = df['reviews_words'].apply(count_opinion_words, args=(negative_words, ), )"
   ]
  },
  {
   "cell_type": "markdown",
   "metadata": {},
   "source": [
    "# Разбиваем датафрейм на части, необходимые для обучения и тестирования модели"
   ]
  },
  {
   "cell_type": "code",
   "execution_count": null,
   "metadata": {},
   "outputs": [],
   "source": [
    "RANDOM_SEED = 42"
   ]
  },
  {
   "cell_type": "code",
   "execution_count": null,
   "metadata": {},
   "outputs": [],
   "source": [
    "# Х - данные с информацией о ресторанах, у - целевая переменная (рейтинги ресторанов)\n",
    "X = df.drop([\n",
    "    'Restaurant_id', \n",
    "    'Rating', \n",
    "    'Cuisine Style', \n",
    "    'Reviews', \n",
    "    'URL_TA', \n",
    "    'ID_TA', \n",
    "    # 'City', \n",
    "    'Ranking', \n",
    "    'reviews_words', \n",
    "], axis = 1)\n",
    "y = df['Rating']"
   ]
  },
  {
   "cell_type": "code",
   "execution_count": null,
   "metadata": {},
   "outputs": [],
   "source": [
    "# Загружаем специальный инструмент для разбивки:\n",
    "from sklearn.model_selection import train_test_split"
   ]
  },
  {
   "cell_type": "code",
   "execution_count": null,
   "metadata": {},
   "outputs": [],
   "source": [
    "# Наборы данных с меткой \"train\" будут использоваться для обучения модели, \"test\" - для тестирования.\n",
    "# Для тестирования мы будем использовать 25% от исходного датасета.\n",
    "X_train, X_test, y_train, y_test = train_test_split(X, y, test_size=0.2, random_state=RANDOM_SEED)"
   ]
  },
  {
   "cell_type": "markdown",
   "metadata": {},
   "source": [
    "# Создаём, обучаем и тестируем модель"
   ]
  },
  {
   "cell_type": "code",
   "execution_count": null,
   "metadata": {},
   "outputs": [],
   "source": [
    "# Импортируем необходимые библиотеки:\n",
    "from sklearn.ensemble import RandomForestRegressor # инструмент для создания и обучения модели\n",
    "from sklearn import metrics # инструменты для оценки точности модели"
   ]
  },
  {
   "cell_type": "code",
   "execution_count": null,
   "metadata": {},
   "outputs": [
    {
     "name": "stderr",
     "output_type": "stream",
     "text": [
      "[Parallel(n_jobs=-1)]: Using backend ThreadingBackend with 8 concurrent workers.\n",
      "[Parallel(n_jobs=-1)]: Done  34 tasks      | elapsed:    3.1s\n",
      "[Parallel(n_jobs=-1)]: Done 100 out of 100 | elapsed:    8.7s finished\n",
      "[Parallel(n_jobs=8)]: Using backend ThreadingBackend with 8 concurrent workers.\n",
      "[Parallel(n_jobs=8)]: Done  34 tasks      | elapsed:    0.0s\n",
      "[Parallel(n_jobs=8)]: Done 100 out of 100 | elapsed:    0.0s finished\n"
     ]
    }
   ],
   "source": [
    "# Создаём модель\n",
    "regr = RandomForestRegressor(n_estimators=100, verbose=1, n_jobs=-1, random_state=RANDOM_SEED)\n",
    "\n",
    "# Обучаем модель на тестовом наборе данных\n",
    "regr.fit(X_train, y_train)\n",
    "\n",
    "# Используем обученную модель для предсказания рейтинга ресторанов в тестовой выборке.\n",
    "# Предсказанные значения записываем в переменную y_pred\n",
    "y_pred = regr.predict(X_test)"
   ]
  },
  {
   "cell_type": "code",
   "execution_count": null,
   "metadata": {},
   "outputs": [
    {
     "name": "stdout",
     "output_type": "stream",
     "text": [
      "MAE: 0.20095187499999997\n"
     ]
    }
   ],
   "source": [
    "# Сравниваем предсказанные значения (y_pred) с реальными (y_test), и смотрим насколько они в среднем отличаются\n",
    "# Метрика называется Mean Absolute Error (MAE) и показывает среднее отклонение предсказанных значений от фактических.\n",
    "print('MAE:', metrics.mean_absolute_error(y_test, y_pred))"
   ]
  },
  {
   "cell_type": "code",
   "execution_count": null,
   "metadata": {},
   "outputs": [
    {
     "data": {
      "text/plain": [
       "<AxesSubplot:>"
      ]
     },
     "execution_count": 284,
     "metadata": {},
     "output_type": "execute_result"
    },
    {
     "data": {
      "image/png": "[encoded data removed]",
      "text/plain": [
       "<Figure size 720x720 with 1 Axes>"
      ]
     },
     "metadata": {
      "needs_background": "light"
     },
     "output_type": "display_data"
    }
   ],
   "source": [
    "import matplotlib.pyplot as plt\n",
    "import seaborn as sns \n",
    "%matplotlib inline\n",
    "\n",
    "plt.rcParams['figure.figsize'] = (10,10)\n",
    "feat_importances = pd.Series(regr.feature_importances_, index=X.columns)\n",
    "feat_importances.nlargest(15).plot(kind='barh')"
   ]
  },
  {
   "cell_type": "code",
   "execution_count": null,
   "metadata": {},
   "outputs": [],
   "source": []
  }
 ],
 "metadata": {
  "kernelspec": {
   "display_name": "Python 3 (ipykernel)",
   "language": "python",
   "name": "python3"
  },
  "language_info": {
   "codemirror_mode": {
    "name": "ipython",
    "version": 3
   },
   "file_extension": ".py",
   "mimetype": "text/x-python",
   "name": "python",
   "nbconvert_exporter": "python",
   "pygments_lexer": "ipython3",
   "version": "3.8.8"
  }
 },
 "nbformat": 4,
 "nbformat_minor": 2
}
