{
 "metadata": {
  "language_info": {
   "codemirror_mode": {
    "name": "ipython",
    "version": 3
   },
   "file_extension": ".py",
   "mimetype": "text/x-python",
   "name": "python",
   "nbconvert_exporter": "python",
   "pygments_lexer": "ipython3",
   "version": 3
  },
  "orig_nbformat": 2,
  "kernelspec": {
   "name": "python_defaultSpec_1595794577635",
   "display_name": "Python 3.7.3 64-bit ('base': conda)"
  }
 },
 "nbformat": 4,
 "nbformat_minor": 2,
 "cells": [
  {
   "cell_type": "code",
   "execution_count": 1,
   "metadata": {},
   "outputs": [],
   "source": [
    "import pandas as pd"
   ]
  },
  {
   "cell_type": "code",
   "execution_count": 2,
   "metadata": {},
   "outputs": [],
   "source": [
    "football = pd.read_csv('https://lms.skillfactory.ru/assets/courseware/v1/d05df2022e56c6de021ab6e54949fe6c/asset-v1:Skillfactory+DST-PRO+15APR2020+type@asset+block/data_sf.csv')"
   ]
  },
  {
   "cell_type": "code",
   "execution_count": 3,
   "metadata": {},
   "outputs": [
    {
     "output_type": "execute_result",
     "data": {
      "text/plain": "650"
     },
     "metadata": {},
     "execution_count": 3
    }
   ],
   "source": [
    "len(football['Club'].value_counts())"
   ]
  },
  {
   "cell_type": "code",
   "execution_count": 6,
   "metadata": {},
   "outputs": [
    {
     "output_type": "execute_result",
     "data": {
      "text/plain": "V-Varen Nagasaki          30\nShonan Bellmare           30\nPadova                    29\nVissel Kobe               29\nFC Emmen                  29\nDe Graafschap             29\nCosenza                   28\nMorecambe                 28\nCrewe Alexandra           28\nDoncaster Rovers          28\nMansfield Town            28\nNorthampton Town          28\nVfL Sportfreunde Lotte    28\nBury                      28\nColchester United         28\nName: Club, dtype: int64"
     },
     "metadata": {},
     "execution_count": 6
    }
   ],
   "source": [
    "football['Club'].value_counts().head(15)"
   ]
  },
  {
   "cell_type": "code",
   "execution_count": 5,
   "metadata": {},
   "outputs": [
    {
     "output_type": "execute_result",
     "data": {
      "text/plain": "Cruzeiro             8\nGD Chaves            7\nVitória Guimarães    7\nDinamo Zagreb        7\nAtlético Mineiro     6\nName: Club, dtype: int64"
     },
     "metadata": {},
     "execution_count": 5
    }
   ],
   "source": [
    "football['Club'].value_counts().tail()"
   ]
  },
  {
   "cell_type": "code",
   "execution_count": 12,
   "metadata": {},
   "outputs": [
    {
     "output_type": "execute_result",
     "data": {
      "text/plain": "GK      True\nST      True\nCB      True\nCM     False\nLB     False\nRB     False\nRM     False\nLM     False\nCDM    False\nCAM    False\nRCB    False\nLCB    False\nLW     False\nRCM    False\nRW     False\nLCM    False\nLDM    False\nRDM    False\nLS     False\nRS     False\nRWB    False\nLWB    False\nCF     False\nLF     False\nLAM    False\nRF     False\nRAM    False\nName: Position, dtype: bool"
     },
     "metadata": {},
     "execution_count": 12
    }
   ],
   "source": [
    "football['Position'].value_counts(normalize=True) > 0.10"
   ]
  },
  {
   "cell_type": "code",
   "execution_count": 13,
   "metadata": {},
   "outputs": [
    {
     "output_type": "execute_result",
     "data": {
      "text/plain": "GK     False\nST     False\nCB     False\nCM     False\nLB     False\nRB     False\nRM     False\nLM     False\nCDM    False\nCAM    False\nRCB    False\nLCB    False\nLW     False\nRCM    False\nRW     False\nLCM    False\nLDM    False\nRDM    False\nLS      True\nRS      True\nRWB     True\nLWB     True\nCF      True\nLF      True\nLAM     True\nRF      True\nRAM     True\nName: Position, dtype: bool"
     },
     "metadata": {},
     "execution_count": 13
    }
   ],
   "source": [
    "football['Position'].value_counts(normalize=True) < 0.01"
   ]
  },
  {
   "cell_type": "code",
   "execution_count": 15,
   "metadata": {},
   "outputs": [
    {
     "output_type": "execute_result",
     "data": {
      "text/plain": "(21.2, 39.4]     4859\n(39.4, 57.6]     3957\n(57.6, 75.8]     2108\n(2.908, 21.2]    1760\n(75.8, 94.0]      213\nName: FKAccuracy, dtype: int64"
     },
     "metadata": {},
     "execution_count": 15
    }
   ],
   "source": [
    "football['FKAccuracy'].value_counts(bins=5)"
   ]
  },
  {
   "cell_type": "code",
   "execution_count": 22,
   "metadata": {},
   "outputs": [
    {
     "output_type": "execute_result",
     "data": {
      "text/plain": "27"
     },
     "metadata": {},
     "execution_count": 22
    }
   ],
   "source": [
    "len(football['Position'].value_counts())"
   ]
  },
  {
   "cell_type": "code",
   "execution_count": 33,
   "metadata": {},
   "outputs": [
    {
     "output_type": "execute_result",
     "data": {
      "text/plain": "(620.999, 95750.0]      97\n(95750.0, 190500.0]      2\n(190500.0, 285250.0]     1\n(285250.0, 380000.0]     0\nName: Wage, dtype: int64"
     },
     "metadata": {},
     "execution_count": 33
    }
   ],
   "source": [
    "round(\n",
    "    football[football.Nationality == 'Spain']['Wage'].value_counts(bins=4, normalize=True) * 100\n",
    ").apply(int)"
   ]
  },
  {
   "cell_type": "code",
   "execution_count": null,
   "metadata": {},
   "outputs": [],
   "source": []
  }
 ]
}