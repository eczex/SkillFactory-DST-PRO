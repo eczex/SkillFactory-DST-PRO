{
 "metadata": {
  "language_info": {
   "codemirror_mode": {
    "name": "ipython",
    "version": 3
   },
   "file_extension": ".py",
   "mimetype": "text/x-python",
   "name": "python",
   "nbconvert_exporter": "python",
   "pygments_lexer": "ipython3",
   "version": 3
  },
  "orig_nbformat": 2,
  "kernelspec": {
   "name": "python_defaultSpec_1595794577635",
   "display_name": "Python 3.7.3 64-bit ('base': conda)"
  }
 },
 "nbformat": 4,
 "nbformat_minor": 2,
 "cells": [
  {
   "cell_type": "code",
   "execution_count": 1,
   "metadata": {},
   "outputs": [],
   "source": [
    "import pandas as pd"
   ]
  },
  {
   "cell_type": "code",
   "execution_count": 2,
   "metadata": {},
   "outputs": [],
   "source": [
    "football = pd.read_csv('https://lms.skillfactory.ru/assets/courseware/v1/d05df2022e56c6de021ab6e54949fe6c/asset-v1:Skillfactory+DST-PRO+15APR2020+type@asset+block/data_sf.csv')"
   ]
  },
  {
   "cell_type": "code",
   "execution_count": 3,
   "metadata": {},
   "outputs": [
    {
     "output_type": "execute_result",
     "data": {
      "text/plain": "650"
     },
     "metadata": {},
     "execution_count": 3
    }
   ],
   "source": [
    "len(football['Club'].value_counts())"
   ]
  },
  {
   "cell_type": "code",
   "execution_count": 4,
   "metadata": {},
   "outputs": [
    {
     "output_type": "execute_result",
     "data": {
      "text/plain": "V-Varen Nagasaki             30\nShonan Bellmare              30\nPadova                       29\nVissel Kobe                  29\nFC Emmen                     29\nDe Graafschap                29\nCosenza                      28\nMorecambe                    28\nCrewe Alexandra              28\nDoncaster Rovers             28\nMansfield Town               28\nNorthampton Town             28\nVfL Sportfreunde Lotte       28\nBury                         28\nColchester United            28\nBlackpool                    28\nFC Energie Cottbus           28\nStevenage                    28\nGillingham                   28\nSangju Sangmu FC             28\nCuricó Unido                 28\nSan Martín de San Juan       28\nCambridge United             28\nAl Batin                     28\nExeter City                  28\nJúbilo Iwata                 28\nLivingston FC                28\nYeovil Town                  28\nSagan Tosu                   28\nFC Carl Zeiss Jena           28\n                             ..\nAZ Alkmaar                   10\nCeltic                       10\nPAOK                         10\nDerby County                 10\n1. FC Köln                   10\nShakhtar Donetsk             10\nEn Avant de Guingamp         10\nKRC Genk                     10\nClube Sport Marítimo         10\nFenerbahçe SK                10\nFluminense                   10\nRoyal Antwerp FC             10\nRSC Anderlecht               10\nBotafogo                     10\nClub Brugge KV                9\nKasimpaşa SK                  9\nUdinese                       9\nCagliari                      9\nInternacional                 9\nOGC Nice                      9\nKAA Gent                      9\nAmérica FC (Minas Gerais)     9\nDijon FCO                     8\nFC Metz                       8\nOlympiacos CFP                8\nCruzeiro                      8\nGD Chaves                     7\nVitória Guimarães             7\nDinamo Zagreb                 7\nAtlético Mineiro              6\nName: Club, Length: 650, dtype: int64"
     },
     "metadata": {},
     "execution_count": 4
    }
   ],
   "source": [
    "football['Club'].value_counts()"
   ]
  },
  {
   "cell_type": "code",
   "execution_count": 5,
   "metadata": {},
   "outputs": [
    {
     "output_type": "execute_result",
     "data": {
      "text/plain": "Cruzeiro             8\nGD Chaves            7\nVitória Guimarães    7\nDinamo Zagreb        7\nAtlético Mineiro     6\nName: Club, dtype: int64"
     },
     "metadata": {},
     "execution_count": 5
    }
   ],
   "source": [
    "football['Club'].value_counts().tail()"
   ]
  },
  {
   "cell_type": "code",
   "execution_count": null,
   "metadata": {},
   "outputs": [],
   "source": []
  }
 ]
}