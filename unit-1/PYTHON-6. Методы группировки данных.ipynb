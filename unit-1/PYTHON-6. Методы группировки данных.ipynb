{
 "metadata": {
  "language_info": {
   "codemirror_mode": {
    "name": "ipython",
    "version": 3
   },
   "file_extension": ".py",
   "mimetype": "text/x-python",
   "name": "python",
   "nbconvert_exporter": "python",
   "pygments_lexer": "ipython3",
   "version": 3
  },
  "orig_nbformat": 2,
  "kernelspec": {
   "name": "python_defaultSpec_1595794577635",
   "display_name": "Python 3.7.3 64-bit ('base': conda)"
  }
 },
 "nbformat": 4,
 "nbformat_minor": 2,
 "cells": [
  {
   "cell_type": "code",
   "execution_count": 1,
   "metadata": {},
   "outputs": [],
   "source": [
    "import pandas as pd"
   ]
  },
  {
   "cell_type": "code",
   "execution_count": 2,
   "metadata": {},
   "outputs": [],
   "source": [
    "football = pd.read_csv('https://lms.skillfactory.ru/assets/courseware/v1/d05df2022e56c6de021ab6e54949fe6c/asset-v1:Skillfactory+DST-PRO+15APR2020+type@asset+block/data_sf.csv')"
   ]
  },
  {
   "cell_type": "code",
   "execution_count": 3,
   "metadata": {},
   "outputs": [
    {
     "output_type": "execute_result",
     "data": {
      "text/plain": "650"
     },
     "metadata": {},
     "execution_count": 3
    }
   ],
   "source": [
    "len(football['Club'].value_counts())"
   ]
  },
  {
   "cell_type": "code",
   "execution_count": 6,
   "metadata": {},
   "outputs": [
    {
     "output_type": "execute_result",
     "data": {
      "text/plain": "V-Varen Nagasaki          30\nShonan Bellmare           30\nPadova                    29\nVissel Kobe               29\nFC Emmen                  29\nDe Graafschap             29\nCosenza                   28\nMorecambe                 28\nCrewe Alexandra           28\nDoncaster Rovers          28\nMansfield Town            28\nNorthampton Town          28\nVfL Sportfreunde Lotte    28\nBury                      28\nColchester United         28\nName: Club, dtype: int64"
     },
     "metadata": {},
     "execution_count": 6
    }
   ],
   "source": [
    "football['Club'].value_counts().head(15)"
   ]
  },
  {
   "cell_type": "code",
   "execution_count": 5,
   "metadata": {},
   "outputs": [
    {
     "output_type": "execute_result",
     "data": {
      "text/plain": "Cruzeiro             8\nGD Chaves            7\nVitória Guimarães    7\nDinamo Zagreb        7\nAtlético Mineiro     6\nName: Club, dtype: int64"
     },
     "metadata": {},
     "execution_count": 5
    }
   ],
   "source": [
    "football['Club'].value_counts().tail()"
   ]
  },
  {
   "cell_type": "code",
   "execution_count": 12,
   "metadata": {},
   "outputs": [
    {
     "output_type": "execute_result",
     "data": {
      "text/plain": "GK      True\nST      True\nCB      True\nCM     False\nLB     False\nRB     False\nRM     False\nLM     False\nCDM    False\nCAM    False\nRCB    False\nLCB    False\nLW     False\nRCM    False\nRW     False\nLCM    False\nLDM    False\nRDM    False\nLS     False\nRS     False\nRWB    False\nLWB    False\nCF     False\nLF     False\nLAM    False\nRF     False\nRAM    False\nName: Position, dtype: bool"
     },
     "metadata": {},
     "execution_count": 12
    }
   ],
   "source": [
    "football['Position'].value_counts(normalize=True) > 0.10"
   ]
  },
  {
   "cell_type": "code",
   "execution_count": 13,
   "metadata": {},
   "outputs": [
    {
     "output_type": "execute_result",
     "data": {
      "text/plain": "GK     False\nST     False\nCB     False\nCM     False\nLB     False\nRB     False\nRM     False\nLM     False\nCDM    False\nCAM    False\nRCB    False\nLCB    False\nLW     False\nRCM    False\nRW     False\nLCM    False\nLDM    False\nRDM    False\nLS      True\nRS      True\nRWB     True\nLWB     True\nCF      True\nLF      True\nLAM     True\nRF      True\nRAM     True\nName: Position, dtype: bool"
     },
     "metadata": {},
     "execution_count": 13
    }
   ],
   "source": [
    "football['Position'].value_counts(normalize=True) < 0.01"
   ]
  },
  {
   "cell_type": "code",
   "execution_count": 15,
   "metadata": {},
   "outputs": [
    {
     "output_type": "execute_result",
     "data": {
      "text/plain": "(21.2, 39.4]     4859\n(39.4, 57.6]     3957\n(57.6, 75.8]     2108\n(2.908, 21.2]    1760\n(75.8, 94.0]      213\nName: FKAccuracy, dtype: int64"
     },
     "metadata": {},
     "execution_count": 15
    }
   ],
   "source": [
    "football['FKAccuracy'].value_counts(bins=5)"
   ]
  },
  {
   "cell_type": "code",
   "execution_count": 33,
   "metadata": {},
   "outputs": [
    {
     "output_type": "execute_result",
     "data": {
      "text/plain": "(620.999, 95750.0]      97\n(95750.0, 190500.0]      2\n(190500.0, 285250.0]     1\n(285250.0, 380000.0]     0\nName: Wage, dtype: int64"
     },
     "metadata": {},
     "execution_count": 33
    }
   ],
   "source": [
    "round(\n",
    "    football[football.Nationality == 'Spain']['Wage'].value_counts(bins=4, normalize=True) * 100\n",
    ").apply(int)"
   ]
  },
  {
   "cell_type": "code",
   "execution_count": 39,
   "metadata": {
    "tags": []
   },
   "outputs": [
    {
     "output_type": "stream",
     "name": "stdout",
     "text": "Alex Sandro, Douglas Costa\n"
    }
   ],
   "source": [
    "print(', '.join(list(football[(football.Club == \"Juventus\")&(football.Nationality == 'Brazil')]['Name'].sort_values())))"
   ]
  },
  {
   "cell_type": "code",
   "execution_count": 57,
   "metadata": {},
   "outputs": [
    {
     "output_type": "execute_result",
     "data": {
      "text/plain": "0         Club Atlético Huracán\n1    Hokkaido Consadole Sapporo\nName: Club, dtype: object"
     },
     "metadata": {},
     "execution_count": 57
    }
   ],
   "source": [
    "a = football[football.Age > 35]['Club'].value_counts().reset_index()\n",
    "a.columns = ['Club', 'Players Count']\n",
    "a[a['Players Count'] == a['Players Count'].max()]['Club']\n",
    "# a"
   ]
  },
  {
   "cell_type": "code",
   "execution_count": 66,
   "metadata": {},
   "outputs": [
    {
     "output_type": "execute_result",
     "data": {
      "text/plain": "(22.25, 28.5]      200\n(15.974, 22.25]    197\n(28.5, 34.75]      128\n(34.75, 41.0]       49\nName: Age, dtype: int64"
     },
     "metadata": {},
     "execution_count": 66
    }
   ],
   "source": [
    "football[football.Nationality == 'Argentina']['Age'].value_counts(bins=4)"
   ]
  },
  {
   "cell_type": "code",
   "execution_count": 65,
   "metadata": {},
   "outputs": [
    {
     "output_type": "execute_result",
     "data": {
      "text/plain": "11.77"
     },
     "metadata": {},
     "execution_count": 65
    }
   ],
   "source": [
    "round(\n",
    "    football[football.Nationality == 'Spain']['Age'].value_counts(normalize=True) * 100,\n",
    "    2\n",
    ")[21]"
   ]
  },
  {
   "cell_type": "code",
   "execution_count": 73,
   "metadata": {},
   "outputs": [
    {
     "output_type": "execute_result",
     "data": {
      "text/plain": "Position\nCAM     5500000\nCB      7476000\nCM      6194000\nGK      8784000\nLB      6096000\nLM      5440000\nRB      5034000\nRM      5098000\nST     11873000\nName: Wage, dtype: int64"
     },
     "metadata": {},
     "execution_count": 73
    }
   ],
   "source": [
    "a = football.groupby(['Position'])['Wage'].sum()\n",
    "a[a > 5000000]"
   ]
  },
  {
   "cell_type": "code",
   "execution_count": 75,
   "metadata": {},
   "outputs": [],
   "source": [
    "a = football.groupby(['Position'])[['Wage', 'Value']].mean()"
   ]
  },
  {
   "cell_type": "code",
   "execution_count": 84,
   "metadata": {},
   "outputs": [
    {
     "output_type": "execute_result",
     "data": {
      "text/plain": "             Wage       Value\nPosition                     \nLF        75125.0  27362500.0",
      "text/html": "<div>\n<style scoped>\n    .dataframe tbody tr th:only-of-type {\n        vertical-align: middle;\n    }\n\n    .dataframe tbody tr th {\n        vertical-align: top;\n    }\n\n    .dataframe thead th {\n        text-align: right;\n    }\n</style>\n<table border=\"1\" class=\"dataframe\">\n  <thead>\n    <tr style=\"text-align: right;\">\n      <th></th>\n      <th>Wage</th>\n      <th>Value</th>\n    </tr>\n    <tr>\n      <th>Position</th>\n      <th></th>\n      <th></th>\n    </tr>\n  </thead>\n  <tbody>\n    <tr>\n      <th>LF</th>\n      <td>75125.0</td>\n      <td>27362500.0</td>\n    </tr>\n  </tbody>\n</table>\n</div>"
     },
     "metadata": {},
     "execution_count": 84
    }
   ],
   "source": [
    "b = a[a.Value == a.Value.max()]\n",
    "b"
   ]
  },
  {
   "cell_type": "code",
   "execution_count": 85,
   "metadata": {},
   "outputs": [
    {
     "output_type": "execute_result",
     "data": {
      "text/plain": "Wage        75125\nValue    27362500\ndtype: int64"
     },
     "metadata": {},
     "execution_count": 85
    }
   ],
   "source": [
    "    b.apply(int)"
   ]
  },
  {
   "cell_type": "code",
   "execution_count": 100,
   "metadata": {},
   "outputs": [],
   "source": [
    "a = football.groupby(['Club'])['Wage'].agg(['mean', 'median']).reset_index()"
   ]
  },
  {
   "cell_type": "code",
   "execution_count": 104,
   "metadata": {},
   "outputs": [
    {
     "output_type": "execute_result",
     "data": {
      "text/plain": "52"
     },
     "metadata": {},
     "execution_count": 104
    }
   ],
   "source": [
    "b = a[a['mean'] == a['median']]\n",
    "b['Club'].count()"
   ]
  },
  {
   "cell_type": "code",
   "execution_count": 108,
   "metadata": {},
   "outputs": [
    {
     "output_type": "execute_result",
     "data": {
      "text/plain": "         Club     mean  median\n168  Cruzeiro  13000.0   13000",
      "text/html": "<div>\n<style scoped>\n    .dataframe tbody tr th:only-of-type {\n        vertical-align: middle;\n    }\n\n    .dataframe tbody tr th {\n        vertical-align: top;\n    }\n\n    .dataframe thead th {\n        text-align: right;\n    }\n</style>\n<table border=\"1\" class=\"dataframe\">\n  <thead>\n    <tr style=\"text-align: right;\">\n      <th></th>\n      <th>Club</th>\n      <th>mean</th>\n      <th>median</th>\n    </tr>\n  </thead>\n  <tbody>\n    <tr>\n      <th>168</th>\n      <td>Cruzeiro</td>\n      <td>13000.0</td>\n      <td>13000</td>\n    </tr>\n  </tbody>\n</table>\n</div>"
     },
     "metadata": {},
     "execution_count": 108
    }
   ],
   "source": [
    "b[b['mean'] == b['mean'].max()]"
   ]
  },
  {
   "cell_type": "code",
   "execution_count": 109,
   "metadata": {},
   "outputs": [
    {
     "output_type": "execute_result",
     "data": {
      "text/plain": "2035000"
     },
     "metadata": {},
     "execution_count": 109
    }
   ],
   "source": [
    "football.groupby(['Club'])['Wage'].sum()['Chelsea']"
   ]
  },
  {
   "cell_type": "code",
   "execution_count": 110,
   "metadata": {},
   "outputs": [
    {
     "output_type": "execute_result",
     "data": {
      "text/plain": "54000"
     },
     "metadata": {},
     "execution_count": 110
    }
   ],
   "source": [
    "football[(football.Nationality == 'Argentina')&(football.Age == 20)].Wage.max()"
   ]
  },
  {
   "cell_type": "code",
   "execution_count": 111,
   "metadata": {},
   "outputs": [
    {
     "output_type": "execute_result",
     "data": {
      "text/plain": "300000"
     },
     "metadata": {},
     "execution_count": 111
    }
   ],
   "source": [
    "football[(football.Nationality == 'Argentina')&(football.Age == 30)].Wage.max()"
   ]
  },
  {
   "cell_type": "code",
   "execution_count": 112,
   "metadata": {},
   "outputs": [
    {
     "output_type": "execute_result",
     "data": {
      "text/plain": "1000"
     },
     "metadata": {},
     "execution_count": 112
    }
   ],
   "source": [
    "football[(football.Nationality == 'Argentina')&(football.Age == 30)].Wage.min()"
   ]
  },
  {
   "cell_type": "code",
   "execution_count": 125,
   "metadata": {
    "tags": []
   },
   "outputs": [
    {
     "output_type": "stream",
     "name": "stdout",
     "text": "59;95\n"
    }
   ],
   "source": [
    "print(\n",
    "    ';'.join(\n",
    "        football[(football.Nationality == 'Argentina')&(football.Club == 'FC Barcelona')][['Strength', 'Balance']].max().apply(str)\n",
    "    )\n",
    ")"
   ]
  },
  {
   "cell_type": "code",
   "execution_count": 144,
   "metadata": {},
   "outputs": [
    {
     "output_type": "display_data",
     "data": {
      "text/plain": "                           Wage                                         \\\nClub               FC Barcelona Juventus Manchester United Real Madrid   \nNationality                                                              \nAll                     3967000  2335000           2357000     4138000   \nSpain                    912000        0            260000     1404000   \nFrance                   495000   145000            375000      459000   \nBrazil                   465000   335000             91000      570000   \nArgentina                565000   205000            206000           0   \nCroatia                  260000   160000                 0      420000   \nGermany                  240000   160000                 0      355000   \nBelgium                  110000        0            230000      240000   \nItaly                         0   460000             88000           0   \nPortugal                 125000   405000                 0           0   \nEngland                       0        0            478000           0   \nUruguay                  455000        0                 0           0   \nChile                    205000        0            215000           0   \nWales                         0        0             13000      355000   \nCosta Rica                    0        0                 0      195000   \nBosnia Herzegovina            0   180000                 0           0   \nSerbia                        0        0            165000           0   \nMorocco                       0   160000                 0           0   \nDominican Republic            0        0                 0      140000   \nNetherlands              135000        0                 0           0   \nPoland                        0   125000                 0           0   \nEcuador                       0        0            120000           0   \nIvory Coast                   0        0            105000           0   \nScotland                      0        0             11000           0   \n\n                              \nClub                     All  \nNationality                   \nAll                 12797000  \nSpain                2576000  \nFrance               1474000  \nBrazil               1461000  \nArgentina             976000  \nCroatia               840000  \nGermany               755000  \nBelgium               580000  \nItaly                 548000  \nPortugal              530000  \nEngland               478000  \nUruguay               455000  \nChile                 420000  \nWales                 368000  \nCosta Rica            195000  \nBosnia Herzegovina    180000  \nSerbia                165000  \nMorocco               160000  \nDominican Republic    140000  \nNetherlands           135000  \nPoland                125000  \nEcuador               120000  \nIvory Coast           105000  \nScotland               11000  ",
      "text/html": "<div>\n<style scoped>\n    .dataframe tbody tr th:only-of-type {\n        vertical-align: middle;\n    }\n\n    .dataframe tbody tr th {\n        vertical-align: top;\n    }\n\n    .dataframe thead tr th {\n        text-align: left;\n    }\n\n    .dataframe thead tr:last-of-type th {\n        text-align: right;\n    }\n</style>\n<table border=\"1\" class=\"dataframe\">\n  <thead>\n    <tr>\n      <th></th>\n      <th colspan=\"5\" halign=\"left\">Wage</th>\n    </tr>\n    <tr>\n      <th>Club</th>\n      <th>FC Barcelona</th>\n      <th>Juventus</th>\n      <th>Manchester United</th>\n      <th>Real Madrid</th>\n      <th>All</th>\n    </tr>\n    <tr>\n      <th>Nationality</th>\n      <th></th>\n      <th></th>\n      <th></th>\n      <th></th>\n      <th></th>\n    </tr>\n  </thead>\n  <tbody>\n    <tr>\n      <th>All</th>\n      <td>3967000</td>\n      <td>2335000</td>\n      <td>2357000</td>\n      <td>4138000</td>\n      <td>12797000</td>\n    </tr>\n    <tr>\n      <th>Spain</th>\n      <td>912000</td>\n      <td>0</td>\n      <td>260000</td>\n      <td>1404000</td>\n      <td>2576000</td>\n    </tr>\n    <tr>\n      <th>France</th>\n      <td>495000</td>\n      <td>145000</td>\n      <td>375000</td>\n      <td>459000</td>\n      <td>1474000</td>\n    </tr>\n    <tr>\n      <th>Brazil</th>\n      <td>465000</td>\n      <td>335000</td>\n      <td>91000</td>\n      <td>570000</td>\n      <td>1461000</td>\n    </tr>\n    <tr>\n      <th>Argentina</th>\n      <td>565000</td>\n      <td>205000</td>\n      <td>206000</td>\n      <td>0</td>\n      <td>976000</td>\n    </tr>\n    <tr>\n      <th>Croatia</th>\n      <td>260000</td>\n      <td>160000</td>\n      <td>0</td>\n      <td>420000</td>\n      <td>840000</td>\n    </tr>\n    <tr>\n      <th>Germany</th>\n      <td>240000</td>\n      <td>160000</td>\n      <td>0</td>\n      <td>355000</td>\n      <td>755000</td>\n    </tr>\n    <tr>\n      <th>Belgium</th>\n      <td>110000</td>\n      <td>0</td>\n      <td>230000</td>\n      <td>240000</td>\n      <td>580000</td>\n    </tr>\n    <tr>\n      <th>Italy</th>\n      <td>0</td>\n      <td>460000</td>\n      <td>88000</td>\n      <td>0</td>\n      <td>548000</td>\n    </tr>\n    <tr>\n      <th>Portugal</th>\n      <td>125000</td>\n      <td>405000</td>\n      <td>0</td>\n      <td>0</td>\n      <td>530000</td>\n    </tr>\n    <tr>\n      <th>England</th>\n      <td>0</td>\n      <td>0</td>\n      <td>478000</td>\n      <td>0</td>\n      <td>478000</td>\n    </tr>\n    <tr>\n      <th>Uruguay</th>\n      <td>455000</td>\n      <td>0</td>\n      <td>0</td>\n      <td>0</td>\n      <td>455000</td>\n    </tr>\n    <tr>\n      <th>Chile</th>\n      <td>205000</td>\n      <td>0</td>\n      <td>215000</td>\n      <td>0</td>\n      <td>420000</td>\n    </tr>\n    <tr>\n      <th>Wales</th>\n      <td>0</td>\n      <td>0</td>\n      <td>13000</td>\n      <td>355000</td>\n      <td>368000</td>\n    </tr>\n    <tr>\n      <th>Costa Rica</th>\n      <td>0</td>\n      <td>0</td>\n      <td>0</td>\n      <td>195000</td>\n      <td>195000</td>\n    </tr>\n    <tr>\n      <th>Bosnia Herzegovina</th>\n      <td>0</td>\n      <td>180000</td>\n      <td>0</td>\n      <td>0</td>\n      <td>180000</td>\n    </tr>\n    <tr>\n      <th>Serbia</th>\n      <td>0</td>\n      <td>0</td>\n      <td>165000</td>\n      <td>0</td>\n      <td>165000</td>\n    </tr>\n    <tr>\n      <th>Morocco</th>\n      <td>0</td>\n      <td>160000</td>\n      <td>0</td>\n      <td>0</td>\n      <td>160000</td>\n    </tr>\n    <tr>\n      <th>Dominican Republic</th>\n      <td>0</td>\n      <td>0</td>\n      <td>0</td>\n      <td>140000</td>\n      <td>140000</td>\n    </tr>\n    <tr>\n      <th>Netherlands</th>\n      <td>135000</td>\n      <td>0</td>\n      <td>0</td>\n      <td>0</td>\n      <td>135000</td>\n    </tr>\n    <tr>\n      <th>Poland</th>\n      <td>0</td>\n      <td>125000</td>\n      <td>0</td>\n      <td>0</td>\n      <td>125000</td>\n    </tr>\n    <tr>\n      <th>Ecuador</th>\n      <td>0</td>\n      <td>0</td>\n      <td>120000</td>\n      <td>0</td>\n      <td>120000</td>\n    </tr>\n    <tr>\n      <th>Ivory Coast</th>\n      <td>0</td>\n      <td>0</td>\n      <td>105000</td>\n      <td>0</td>\n      <td>105000</td>\n    </tr>\n    <tr>\n      <th>Scotland</th>\n      <td>0</td>\n      <td>0</td>\n      <td>11000</td>\n      <td>0</td>\n      <td>11000</td>\n    </tr>\n  </tbody>\n</table>\n</div>"
     },
     "metadata": {}
    }
   ],
   "source": [
    "pivot = football[football.Club.isin(['FC Barcelona','Real Madrid','Juventus','Manchester United'])].pivot_table(\n",
    "    values=['Wage'],\n",
    "    index=['Nationality'],\n",
    "    columns=['Club'],\n",
    "    aggfunc='sum',\n",
    "    margins=True,\n",
    "    fill_value=0,\n",
    ")\n",
    "display(pivot.sort_values(by=('Wage', 'All'), ascending=False))"
   ]
  },
  {
   "cell_type": "code",
   "execution_count": 145,
   "metadata": {},
   "outputs": [
    {
     "output_type": "execute_result",
     "data": {
      "text/plain": "Position                  CAM      CB      CDM      CF      CM       GK  LAM  \\\nClub                                                                           \n SSV Jahn Regensburg      NaN  5000.0   5000.0     NaN  4000.0   5000.0  NaN   \n1. FC Heidenheim 1846  5000.0  7000.0      NaN     NaN  1000.0   4000.0  NaN   \n1. FC Kaiserslautern      NaN  1000.0   1000.0     NaN     NaN   1000.0  NaN   \n1. FC Köln                NaN  1000.0  10000.0     NaN  3000.0  25000.0  NaN   \n1. FC Magdeburg           NaN  7000.0      NaN  4000.0     NaN   6000.0  NaN   \n\nPosition                   LB     LCB     LCM  ...      RB     RCB     RCM  \\\nClub                                           ...                           \n SSV Jahn Regensburg   6000.0     NaN     NaN  ...  4000.0  8000.0     NaN   \n1. FC Heidenheim 1846  6000.0  6000.0     NaN  ...  6000.0  3000.0     NaN   \n1. FC Kaiserslautern   2000.0  2000.0     NaN  ...  2000.0     NaN     NaN   \n1. FC Köln                NaN     NaN     NaN  ...  5000.0     NaN     NaN   \n1. FC Magdeburg        2000.0  5000.0  4000.0  ...     NaN  3000.0  3000.0   \n\nPosition                  RDM  RF       RM      RS      RW  RWB      ST  \nClub                                                                     \n SSV Jahn Regensburg   5000.0 NaN      NaN     NaN     NaN  NaN  3000.0  \n1. FC Heidenheim 1846     NaN NaN   3000.0     NaN     NaN  NaN  4000.0  \n1. FC Kaiserslautern   2000.0 NaN   2000.0  2000.0     NaN  NaN  1000.0  \n1. FC Köln                NaN NaN  18000.0     NaN     NaN  NaN     NaN  \n1. FC Magdeburg           NaN NaN   5000.0  8000.0  4000.0  NaN  1000.0  \n\n[5 rows x 27 columns]",
      "text/html": "<div>\n<style scoped>\n    .dataframe tbody tr th:only-of-type {\n        vertical-align: middle;\n    }\n\n    .dataframe tbody tr th {\n        vertical-align: top;\n    }\n\n    .dataframe thead th {\n        text-align: right;\n    }\n</style>\n<table border=\"1\" class=\"dataframe\">\n  <thead>\n    <tr style=\"text-align: right;\">\n      <th>Position</th>\n      <th>CAM</th>\n      <th>CB</th>\n      <th>CDM</th>\n      <th>CF</th>\n      <th>CM</th>\n      <th>GK</th>\n      <th>LAM</th>\n      <th>LB</th>\n      <th>LCB</th>\n      <th>LCM</th>\n      <th>...</th>\n      <th>RB</th>\n      <th>RCB</th>\n      <th>RCM</th>\n      <th>RDM</th>\n      <th>RF</th>\n      <th>RM</th>\n      <th>RS</th>\n      <th>RW</th>\n      <th>RWB</th>\n      <th>ST</th>\n    </tr>\n    <tr>\n      <th>Club</th>\n      <th></th>\n      <th></th>\n      <th></th>\n      <th></th>\n      <th></th>\n      <th></th>\n      <th></th>\n      <th></th>\n      <th></th>\n      <th></th>\n      <th></th>\n      <th></th>\n      <th></th>\n      <th></th>\n      <th></th>\n      <th></th>\n      <th></th>\n      <th></th>\n      <th></th>\n      <th></th>\n      <th></th>\n    </tr>\n  </thead>\n  <tbody>\n    <tr>\n      <th>SSV Jahn Regensburg</th>\n      <td>NaN</td>\n      <td>5000.0</td>\n      <td>5000.0</td>\n      <td>NaN</td>\n      <td>4000.0</td>\n      <td>5000.0</td>\n      <td>NaN</td>\n      <td>6000.0</td>\n      <td>NaN</td>\n      <td>NaN</td>\n      <td>...</td>\n      <td>4000.0</td>\n      <td>8000.0</td>\n      <td>NaN</td>\n      <td>5000.0</td>\n      <td>NaN</td>\n      <td>NaN</td>\n      <td>NaN</td>\n      <td>NaN</td>\n      <td>NaN</td>\n      <td>3000.0</td>\n    </tr>\n    <tr>\n      <th>1. FC Heidenheim 1846</th>\n      <td>5000.0</td>\n      <td>7000.0</td>\n      <td>NaN</td>\n      <td>NaN</td>\n      <td>1000.0</td>\n      <td>4000.0</td>\n      <td>NaN</td>\n      <td>6000.0</td>\n      <td>6000.0</td>\n      <td>NaN</td>\n      <td>...</td>\n      <td>6000.0</td>\n      <td>3000.0</td>\n      <td>NaN</td>\n      <td>NaN</td>\n      <td>NaN</td>\n      <td>3000.0</td>\n      <td>NaN</td>\n      <td>NaN</td>\n      <td>NaN</td>\n      <td>4000.0</td>\n    </tr>\n    <tr>\n      <th>1. FC Kaiserslautern</th>\n      <td>NaN</td>\n      <td>1000.0</td>\n      <td>1000.0</td>\n      <td>NaN</td>\n      <td>NaN</td>\n      <td>1000.0</td>\n      <td>NaN</td>\n      <td>2000.0</td>\n      <td>2000.0</td>\n      <td>NaN</td>\n      <td>...</td>\n      <td>2000.0</td>\n      <td>NaN</td>\n      <td>NaN</td>\n      <td>2000.0</td>\n      <td>NaN</td>\n      <td>2000.0</td>\n      <td>2000.0</td>\n      <td>NaN</td>\n      <td>NaN</td>\n      <td>1000.0</td>\n    </tr>\n    <tr>\n      <th>1. FC Köln</th>\n      <td>NaN</td>\n      <td>1000.0</td>\n      <td>10000.0</td>\n      <td>NaN</td>\n      <td>3000.0</td>\n      <td>25000.0</td>\n      <td>NaN</td>\n      <td>NaN</td>\n      <td>NaN</td>\n      <td>NaN</td>\n      <td>...</td>\n      <td>5000.0</td>\n      <td>NaN</td>\n      <td>NaN</td>\n      <td>NaN</td>\n      <td>NaN</td>\n      <td>18000.0</td>\n      <td>NaN</td>\n      <td>NaN</td>\n      <td>NaN</td>\n      <td>NaN</td>\n    </tr>\n    <tr>\n      <th>1. FC Magdeburg</th>\n      <td>NaN</td>\n      <td>7000.0</td>\n      <td>NaN</td>\n      <td>4000.0</td>\n      <td>NaN</td>\n      <td>6000.0</td>\n      <td>NaN</td>\n      <td>2000.0</td>\n      <td>5000.0</td>\n      <td>4000.0</td>\n      <td>...</td>\n      <td>NaN</td>\n      <td>3000.0</td>\n      <td>3000.0</td>\n      <td>NaN</td>\n      <td>NaN</td>\n      <td>5000.0</td>\n      <td>8000.0</td>\n      <td>4000.0</td>\n      <td>NaN</td>\n      <td>1000.0</td>\n    </tr>\n  </tbody>\n</table>\n<p>5 rows × 27 columns</p>\n</div>"
     },
     "metadata": {},
     "execution_count": 145
    }
   ],
   "source": [
    "df2 = football.pivot_table(columns = 'Position', index = 'Club', values = 'Wage', aggfunc = 'max')\n",
    "df2.head()"
   ]
  },
  {
   "cell_type": "code",
   "execution_count": 153,
   "metadata": {},
   "outputs": [
    {
     "output_type": "execute_result",
     "data": {
      "text/plain": "125000.0"
     },
     "metadata": {},
     "execution_count": 153
    }
   ],
   "source": [
    "    df2.loc['Manchester City']['GK']"
   ]
  },
  {
   "cell_type": "code",
   "execution_count": 175,
   "metadata": {},
   "outputs": [
    {
     "output_type": "execute_result",
     "data": {
      "text/plain": "                      Name                                 ...                 \\\nPosition               CAM CB CDM CF CM GK LAM LB LCB LCM  ... RB RCB RCM RDM   \nClub                                                       ...                  \n SSV Jahn Regensburg     0  5   1  0  2  3   0  2   0   0  ...  2   1   0   1   \n1. FC Heidenheim 1846    1  3   0  0  1  2   0  2   1   0  ...  2   1   0   0   \n1. FC Kaiserslautern     0  3   3  0  0  3   0  2   1   0  ...  2   0   0   1   \n1. FC Köln               0  1   1  0  2  3   0  0   0   0  ...  1   0   0   0   \n1. FC Magdeburg          0  4   0  1  0  3   0  1   1   1  ...  0   1   1   0   \n\n                                          \nPosition              RF RM RS RW RWB ST  \nClub                                      \n SSV Jahn Regensburg   0  0  0  0   0  3  \n1. FC Heidenheim 1846  0  3  0  0   0  2  \n1. FC Kaiserslautern   0  2  1  0   0  1  \n1. FC Köln             0  1  0  0   0  0  \n1. FC Magdeburg        0  3  1  2   0  1  \n\n[5 rows x 27 columns]",
      "text/html": "<div>\n<style scoped>\n    .dataframe tbody tr th:only-of-type {\n        vertical-align: middle;\n    }\n\n    .dataframe tbody tr th {\n        vertical-align: top;\n    }\n\n    .dataframe thead tr th {\n        text-align: left;\n    }\n\n    .dataframe thead tr:last-of-type th {\n        text-align: right;\n    }\n</style>\n<table border=\"1\" class=\"dataframe\">\n  <thead>\n    <tr>\n      <th></th>\n      <th colspan=\"21\" halign=\"left\">Name</th>\n    </tr>\n    <tr>\n      <th>Position</th>\n      <th>CAM</th>\n      <th>CB</th>\n      <th>CDM</th>\n      <th>CF</th>\n      <th>CM</th>\n      <th>GK</th>\n      <th>LAM</th>\n      <th>LB</th>\n      <th>LCB</th>\n      <th>LCM</th>\n      <th>...</th>\n      <th>RB</th>\n      <th>RCB</th>\n      <th>RCM</th>\n      <th>RDM</th>\n      <th>RF</th>\n      <th>RM</th>\n      <th>RS</th>\n      <th>RW</th>\n      <th>RWB</th>\n      <th>ST</th>\n    </tr>\n    <tr>\n      <th>Club</th>\n      <th></th>\n      <th></th>\n      <th></th>\n      <th></th>\n      <th></th>\n      <th></th>\n      <th></th>\n      <th></th>\n      <th></th>\n      <th></th>\n      <th></th>\n      <th></th>\n      <th></th>\n      <th></th>\n      <th></th>\n      <th></th>\n      <th></th>\n      <th></th>\n      <th></th>\n      <th></th>\n      <th></th>\n    </tr>\n  </thead>\n  <tbody>\n    <tr>\n      <th>SSV Jahn Regensburg</th>\n      <td>0</td>\n      <td>5</td>\n      <td>1</td>\n      <td>0</td>\n      <td>2</td>\n      <td>3</td>\n      <td>0</td>\n      <td>2</td>\n      <td>0</td>\n      <td>0</td>\n      <td>...</td>\n      <td>2</td>\n      <td>1</td>\n      <td>0</td>\n      <td>1</td>\n      <td>0</td>\n      <td>0</td>\n      <td>0</td>\n      <td>0</td>\n      <td>0</td>\n      <td>3</td>\n    </tr>\n    <tr>\n      <th>1. FC Heidenheim 1846</th>\n      <td>1</td>\n      <td>3</td>\n      <td>0</td>\n      <td>0</td>\n      <td>1</td>\n      <td>2</td>\n      <td>0</td>\n      <td>2</td>\n      <td>1</td>\n      <td>0</td>\n      <td>...</td>\n      <td>2</td>\n      <td>1</td>\n      <td>0</td>\n      <td>0</td>\n      <td>0</td>\n      <td>3</td>\n      <td>0</td>\n      <td>0</td>\n      <td>0</td>\n      <td>2</td>\n    </tr>\n    <tr>\n      <th>1. FC Kaiserslautern</th>\n      <td>0</td>\n      <td>3</td>\n      <td>3</td>\n      <td>0</td>\n      <td>0</td>\n      <td>3</td>\n      <td>0</td>\n      <td>2</td>\n      <td>1</td>\n      <td>0</td>\n      <td>...</td>\n      <td>2</td>\n      <td>0</td>\n      <td>0</td>\n      <td>1</td>\n      <td>0</td>\n      <td>2</td>\n      <td>1</td>\n      <td>0</td>\n      <td>0</td>\n      <td>1</td>\n    </tr>\n    <tr>\n      <th>1. FC Köln</th>\n      <td>0</td>\n      <td>1</td>\n      <td>1</td>\n      <td>0</td>\n      <td>2</td>\n      <td>3</td>\n      <td>0</td>\n      <td>0</td>\n      <td>0</td>\n      <td>0</td>\n      <td>...</td>\n      <td>1</td>\n      <td>0</td>\n      <td>0</td>\n      <td>0</td>\n      <td>0</td>\n      <td>1</td>\n      <td>0</td>\n      <td>0</td>\n      <td>0</td>\n      <td>0</td>\n    </tr>\n    <tr>\n      <th>1. FC Magdeburg</th>\n      <td>0</td>\n      <td>4</td>\n      <td>0</td>\n      <td>1</td>\n      <td>0</td>\n      <td>3</td>\n      <td>0</td>\n      <td>1</td>\n      <td>1</td>\n      <td>1</td>\n      <td>...</td>\n      <td>0</td>\n      <td>1</td>\n      <td>1</td>\n      <td>0</td>\n      <td>0</td>\n      <td>3</td>\n      <td>1</td>\n      <td>2</td>\n      <td>0</td>\n      <td>1</td>\n    </tr>\n  </tbody>\n</table>\n<p>5 rows × 27 columns</p>\n</div>"
     },
     "metadata": {},
     "execution_count": 175
    }
   ],
   "source": [
    "pivot = football.pivot_table(\n",
    "    values=['Name'],\n",
    "    index=['Club'],\n",
    "    columns=['Position'],\n",
    "    aggfunc='count',\n",
    "    fill_value=0,\n",
    ")\n",
    "pivot.head()"
   ]
  },
  {
   "cell_type": "code",
   "execution_count": 179,
   "metadata": {},
   "outputs": [
    {
     "output_type": "execute_result",
     "data": {
      "text/plain": "2.525"
     },
     "metadata": {},
     "execution_count": 179
    }
   ],
   "source": [
    "round(pivot.Name.GK.mean(), 3)"
   ]
  },
  {
   "cell_type": "code",
   "execution_count": 180,
   "metadata": {},
   "outputs": [
    {
     "output_type": "execute_result",
     "data": {
      "text/plain": "0    136\nName: CM, dtype: int64"
     },
     "metadata": {},
     "execution_count": 180
    }
   ],
   "source": [
    "pivot[pivot.Name.CM == 0].Name.CM.value_counts()"
   ]
  },
  {
   "cell_type": "code",
   "execution_count": 184,
   "metadata": {},
   "outputs": [],
   "source": [
    "pivot = football.pivot_table(\n",
    "    values=['Wage'],\n",
    "    index=['Nationality'],\n",
    "    columns=['Club'],\n",
    "    aggfunc='sum',\n",
    "    fill_value=0,\n",
    ")"
   ]
  },
  {
   "cell_type": "code",
   "execution_count": 188,
   "metadata": {},
   "outputs": [
    {
     "output_type": "execute_result",
     "data": {
      "text/plain": "61000"
     },
     "metadata": {},
     "execution_count": 188
    }
   ],
   "source": [
    "pivot.loc['Russia']['Wage']['AS Monaco']"
   ]
  },
  {
   "cell_type": "code",
   "execution_count": 205,
   "metadata": {},
   "outputs": [],
   "source": [
    "pivot = football.pivot_table(\n",
    "    values=['SprintSpeed'],\n",
    "    index=['Club'],\n",
    "    columns=['Position'],\n",
    "    aggfunc='mean',\n",
    "    fill_value=0,\n",
    ")"
   ]
  },
  {
   "cell_type": "code",
   "execution_count": 206,
   "metadata": {},
   "outputs": [
    {
     "output_type": "execute_result",
     "data": {
      "text/plain": "Position\nRS     94.0\nRM     94.0\nLM     94.0\nLS     93.0\nRB     93.0\nLB     93.0\nCF     91.0\nLW     91.0\nST     91.0\nRDM    91.0\nRW     91.0\nRCM    90.0\nCAM    89.0\nLF     88.0\nRCB    88.0\nLCB    88.0\nRWB    86.0\nRF     86.0\nCM     86.0\nLWB    86.0\nLAM    85.0\nLCM    84.0\nCDM    83.0\nLDM    79.0\nRAM    78.0\nCB     78.0\nGK     62.0\ndtype: float64"
     },
     "metadata": {},
     "execution_count": 206
    }
   ],
   "source": [
    "pivot.SprintSpeed.max().sort_values(ascending=False)"
   ]
  },
  {
   "cell_type": "code",
   "execution_count": 211,
   "metadata": {},
   "outputs": [
    {
     "output_type": "execute_result",
     "data": {
      "text/plain": "Club\nVitória           91.000000\nSydney FC         88.000000\nCD Lugo           87.000000\nBrøndby IF        84.666667\nLeicester City    84.500000\nName: ST, dtype: float64"
     },
     "metadata": {},
     "execution_count": 211
    }
   ],
   "source": [
    "pivot.SprintSpeed.ST.sort_values(ascending=False).head()"
   ]
  },
  {
   "cell_type": "code",
   "execution_count": null,
   "metadata": {},
   "outputs": [],
   "source": []
  }
 ]
}