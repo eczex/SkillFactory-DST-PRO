{
 "metadata": {
  "language_info": {
   "codemirror_mode": {
    "name": "ipython",
    "version": 3
   },
   "file_extension": ".py",
   "mimetype": "text/x-python",
   "name": "python",
   "nbconvert_exporter": "python",
   "pygments_lexer": "ipython3",
   "version": 3
  },
  "orig_nbformat": 2,
  "kernelspec": {
   "name": "python_defaultSpec_1596047186599",
   "display_name": "Python 3.7.3 64-bit ('anaconda3': virtualenv)"
  }
 },
 "nbformat": 4,
 "nbformat_minor": 2,
 "cells": [
  {
   "cell_type": "code",
   "execution_count": 2,
   "metadata": {},
   "outputs": [],
   "source": [
    "import pandas as pd"
   ]
  },
  {
   "cell_type": "code",
   "execution_count": 3,
   "metadata": {},
   "outputs": [],
   "source": [
    "ratings = pd.read_csv('https://lms.skillfactory.ru/assets/courseware/v1/325a6f09399d1c45671f187505e1a100/asset-v1:Skillfactory+DST-PRO+15APR2020+type@asset+block/ratings.csv')\n",
    "movies = pd.read_csv('https://lms.skillfactory.ru/assets/courseware/v1/ed94fab72b62442ef8150d9446e000d6/asset-v1:Skillfactory+DST-PRO+15APR2020+type@asset+block/movies.csv')"
   ]
  },
  {
   "cell_type": "code",
   "execution_count": null,
   "metadata": {},
   "outputs": [],
   "source": []
  }
 ]
}