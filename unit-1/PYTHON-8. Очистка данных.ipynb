{
 "metadata": {
  "language_info": {
   "codemirror_mode": {
    "name": "ipython",
    "version": 3
   },
   "file_extension": ".py",
   "mimetype": "text/x-python",
   "name": "python",
   "nbconvert_exporter": "python",
   "pygments_lexer": "ipython3",
   "version": 3
  },
  "orig_nbformat": 2,
  "kernelspec": {
   "name": "python_defaultSpec_1596060302739",
   "display_name": "Python 3.7.3 64-bit ('anaconda3': virtualenv)"
  }
 },
 "nbformat": 4,
 "nbformat_minor": 2,
 "cells": [
  {
   "cell_type": "code",
   "execution_count": 1,
   "metadata": {},
   "outputs": [],
   "source": [
    "import pandas as pd"
   ]
  },
  {
   "cell_type": "code",
   "execution_count": 3,
   "metadata": {},
   "outputs": [],
   "source": [
    "log = pd.read_csv('https://lms.skillfactory.ru/assets/courseware/v1/898ed1ca47bd30eb121758067cd97e2a/asset-v1:Skillfactory+DST-PRO+15APR2020+type@asset+block/log.csv')\n",
    "# users = pd.read_csv('https://lms.skillfactory.ru/assets/courseware/v1/5471c5ea3f70b9fefce686c669d5ce2c/asset-v1:Skillfactory+DST-PRO+15APR2020+type@asset+block/users.csv')"
   ]
  },
  {
   "cell_type": "code",
   "execution_count": null,
   "metadata": {},
   "outputs": [],
   "source": []
  }
 ]
}