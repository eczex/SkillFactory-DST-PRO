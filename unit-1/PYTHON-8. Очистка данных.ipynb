{
 "metadata": {
  "language_info": {
   "codemirror_mode": {
    "name": "ipython",
    "version": 3
   },
   "file_extension": ".py",
   "mimetype": "text/x-python",
   "name": "python",
   "nbconvert_exporter": "python",
   "pygments_lexer": "ipython3",
   "version": 3
  },
  "orig_nbformat": 2,
  "kernelspec": {
   "name": "python_defaultSpec_1596060302739",
   "display_name": "Python 3.7.3 64-bit ('anaconda3': virtualenv)"
  }
 },
 "nbformat": 4,
 "nbformat_minor": 2,
 "cells": [
  {
   "cell_type": "code",
   "execution_count": 1,
   "metadata": {},
   "outputs": [],
   "source": [
    "import pandas as pd"
   ]
  },
  {
   "cell_type": "code",
   "execution_count": 21,
   "metadata": {},
   "outputs": [],
   "source": [
    "log = pd.read_csv('https://lms.skillfactory.ru/assets/courseware/v1/898ed1ca47bd30eb121758067cd97e2a/asset-v1:Skillfactory+DST-PRO+15APR2020+type@asset+block/log.csv', header=None)"
   ]
  },
  {
   "cell_type": "code",
   "execution_count": 22,
   "metadata": {
    "tags": []
   },
   "outputs": [
    {
     "output_type": "stream",
     "name": "stdout",
     "text": "<class 'pandas.core.frame.DataFrame'>\nRangeIndex: 1000 entries, 0 to 999\nData columns (total 4 columns):\n0    1000 non-null object\n1    985 non-null object\n2    485 non-null float64\n3    138 non-null float64\ndtypes: float64(2), object(2)\nmemory usage: 31.3+ KB\n"
    }
   ],
   "source": [
    "log.info()"
   ]
  },
  {
   "cell_type": "code",
   "execution_count": 23,
   "metadata": {},
   "outputs": [
    {
     "output_type": "execute_result",
     "data": {
      "text/plain": "                                   0                     1         2  \\\n0   Запись пользователя № - user_919  [2019-01-01 14:06:51       NaN   \n1   Запись пользователя № - user_973  [2019-01-01 14:51:16       NaN   \n2   Запись пользователя № - user_903  [2019-01-01 16:31:16       NaN   \n3   Запись пользователя № - user_954  [2019-01-01 17:17:51       NaN   \n4   Запись пользователя № - user_954  [2019-01-01 21:31:18       NaN   \n5   Запись пользователя № - user_917  [2019-01-01 23:34:55  156789.0   \n6   Запись пользователя № - user_900   [2019-01-01 4:37:25       NaN   \n7   Запись пользователя № - user_980   [2019-01-01 6:31:23       NaN   \n8   Запись пользователя № - user_906  [2019-01-02 10:57:08       NaN   \n9   Запись пользователя № - user_952  [2019-01-02 16:55:06       NaN   \n10  Запись пользователя № - user_972  [2019-01-02 20:47:54       NaN   \n11  Запись пользователя № - user_966  [2019-01-02 21:32:20       NaN   \n12  Запись пользователя № - user_964  [2019-01-02 21:32:35       NaN   \n13  Запись пользователя № - user_978   [2019-01-02 5:25:40       NaN   \n14  Запись пользователя № - user_917   [2019-01-02 8:57:36  145732.0   \n\n            3  \n0         NaN  \n1         NaN  \n2         NaN  \n3         NaN  \n4         NaN  \n5         NaN  \n6         NaN  \n7         NaN  \n8         NaN  \n9         NaN  \n10        NaN  \n11        NaN  \n12        NaN  \n13        NaN  \n14  1987653.0  ",
      "text/html": "<div>\n<style scoped>\n    .dataframe tbody tr th:only-of-type {\n        vertical-align: middle;\n    }\n\n    .dataframe tbody tr th {\n        vertical-align: top;\n    }\n\n    .dataframe thead th {\n        text-align: right;\n    }\n</style>\n<table border=\"1\" class=\"dataframe\">\n  <thead>\n    <tr style=\"text-align: right;\">\n      <th></th>\n      <th>0</th>\n      <th>1</th>\n      <th>2</th>\n      <th>3</th>\n    </tr>\n  </thead>\n  <tbody>\n    <tr>\n      <th>0</th>\n      <td>Запись пользователя № - user_919</td>\n      <td>[2019-01-01 14:06:51</td>\n      <td>NaN</td>\n      <td>NaN</td>\n    </tr>\n    <tr>\n      <th>1</th>\n      <td>Запись пользователя № - user_973</td>\n      <td>[2019-01-01 14:51:16</td>\n      <td>NaN</td>\n      <td>NaN</td>\n    </tr>\n    <tr>\n      <th>2</th>\n      <td>Запись пользователя № - user_903</td>\n      <td>[2019-01-01 16:31:16</td>\n      <td>NaN</td>\n      <td>NaN</td>\n    </tr>\n    <tr>\n      <th>3</th>\n      <td>Запись пользователя № - user_954</td>\n      <td>[2019-01-01 17:17:51</td>\n      <td>NaN</td>\n      <td>NaN</td>\n    </tr>\n    <tr>\n      <th>4</th>\n      <td>Запись пользователя № - user_954</td>\n      <td>[2019-01-01 21:31:18</td>\n      <td>NaN</td>\n      <td>NaN</td>\n    </tr>\n    <tr>\n      <th>5</th>\n      <td>Запись пользователя № - user_917</td>\n      <td>[2019-01-01 23:34:55</td>\n      <td>156789.0</td>\n      <td>NaN</td>\n    </tr>\n    <tr>\n      <th>6</th>\n      <td>Запись пользователя № - user_900</td>\n      <td>[2019-01-01 4:37:25</td>\n      <td>NaN</td>\n      <td>NaN</td>\n    </tr>\n    <tr>\n      <th>7</th>\n      <td>Запись пользователя № - user_980</td>\n      <td>[2019-01-01 6:31:23</td>\n      <td>NaN</td>\n      <td>NaN</td>\n    </tr>\n    <tr>\n      <th>8</th>\n      <td>Запись пользователя № - user_906</td>\n      <td>[2019-01-02 10:57:08</td>\n      <td>NaN</td>\n      <td>NaN</td>\n    </tr>\n    <tr>\n      <th>9</th>\n      <td>Запись пользователя № - user_952</td>\n      <td>[2019-01-02 16:55:06</td>\n      <td>NaN</td>\n      <td>NaN</td>\n    </tr>\n    <tr>\n      <th>10</th>\n      <td>Запись пользователя № - user_972</td>\n      <td>[2019-01-02 20:47:54</td>\n      <td>NaN</td>\n      <td>NaN</td>\n    </tr>\n    <tr>\n      <th>11</th>\n      <td>Запись пользователя № - user_966</td>\n      <td>[2019-01-02 21:32:20</td>\n      <td>NaN</td>\n      <td>NaN</td>\n    </tr>\n    <tr>\n      <th>12</th>\n      <td>Запись пользователя № - user_964</td>\n      <td>[2019-01-02 21:32:35</td>\n      <td>NaN</td>\n      <td>NaN</td>\n    </tr>\n    <tr>\n      <th>13</th>\n      <td>Запись пользователя № - user_978</td>\n      <td>[2019-01-02 5:25:40</td>\n      <td>NaN</td>\n      <td>NaN</td>\n    </tr>\n    <tr>\n      <th>14</th>\n      <td>Запись пользователя № - user_917</td>\n      <td>[2019-01-02 8:57:36</td>\n      <td>145732.0</td>\n      <td>1987653.0</td>\n    </tr>\n  </tbody>\n</table>\n</div>"
     },
     "metadata": {},
     "execution_count": 23
    }
   ],
   "source": [
    "log.head(15)"
   ]
  },
  {
   "cell_type": "code",
   "execution_count": 83,
   "metadata": {},
   "outputs": [],
   "source": [
    "sample = pd.read_csv('https://lms.skillfactory.ru/assets/courseware/v1/918e647bafd21deb4413804bd4a8c865/asset-v1:Skillfactory+DST-PRO+15APR2020+type@asset+block/sample.csv')"
   ]
  },
  {
   "cell_type": "code",
   "execution_count": 15,
   "metadata": {},
   "outputs": [],
   "source": [
    "columns = sample.columns"
   ]
  },
  {
   "cell_type": "code",
   "execution_count": 16,
   "metadata": {},
   "outputs": [],
   "source": [
    "sample.columns = [x.lower() for x in sample.columns]"
   ]
  },
  {
   "cell_type": "code",
   "execution_count": 17,
   "metadata": {},
   "outputs": [
    {
     "output_type": "execute_result",
     "data": {
      "text/plain": "Index(['name', 'city', 'age', 'profession'], dtype='object')"
     },
     "metadata": {},
     "execution_count": 17
    }
   ],
   "source": [
    "sample.columns"
   ]
  },
  {
   "cell_type": "code",
   "execution_count": 24,
   "metadata": {},
   "outputs": [],
   "source": [
    "log.columns = ['user_id', 'time', 'bet', 'win', ]"
   ]
  },
  {
   "cell_type": "code",
   "execution_count": 25,
   "metadata": {
    "tags": []
   },
   "outputs": [
    {
     "output_type": "stream",
     "name": "stdout",
     "text": "<class 'pandas.core.frame.DataFrame'>\nRangeIndex: 1000 entries, 0 to 999\nData columns (total 4 columns):\nuser_id    1000 non-null object\ntime       985 non-null object\nbet        485 non-null float64\nwin        138 non-null float64\ndtypes: float64(2), object(2)\nmemory usage: 31.3+ KB\n"
    }
   ],
   "source": [
    "log.info()"
   ]
  },
  {
   "cell_type": "code",
   "execution_count": 26,
   "metadata": {},
   "outputs": [
    {
     "output_type": "execute_result",
     "data": {
      "text/plain": "                bet           win\ncount  4.850000e+02  1.380000e+02\nmean   6.785738e+03  9.562102e+04\nstd    7.720292e+04  8.554669e+05\nmin    1.000000e+02  3.691000e+03\n25%    3.000000e+02  5.096250e+03\n50%    6.000000e+02  5.935000e+03\n75%    9.000000e+02  6.978750e+03\nmax    1.678321e+06  9.876543e+06",
      "text/html": "<div>\n<style scoped>\n    .dataframe tbody tr th:only-of-type {\n        vertical-align: middle;\n    }\n\n    .dataframe tbody tr th {\n        vertical-align: top;\n    }\n\n    .dataframe thead th {\n        text-align: right;\n    }\n</style>\n<table border=\"1\" class=\"dataframe\">\n  <thead>\n    <tr style=\"text-align: right;\">\n      <th></th>\n      <th>bet</th>\n      <th>win</th>\n    </tr>\n  </thead>\n  <tbody>\n    <tr>\n      <th>count</th>\n      <td>4.850000e+02</td>\n      <td>1.380000e+02</td>\n    </tr>\n    <tr>\n      <th>mean</th>\n      <td>6.785738e+03</td>\n      <td>9.562102e+04</td>\n    </tr>\n    <tr>\n      <th>std</th>\n      <td>7.720292e+04</td>\n      <td>8.554669e+05</td>\n    </tr>\n    <tr>\n      <th>min</th>\n      <td>1.000000e+02</td>\n      <td>3.691000e+03</td>\n    </tr>\n    <tr>\n      <th>25%</th>\n      <td>3.000000e+02</td>\n      <td>5.096250e+03</td>\n    </tr>\n    <tr>\n      <th>50%</th>\n      <td>6.000000e+02</td>\n      <td>5.935000e+03</td>\n    </tr>\n    <tr>\n      <th>75%</th>\n      <td>9.000000e+02</td>\n      <td>6.978750e+03</td>\n    </tr>\n    <tr>\n      <th>max</th>\n      <td>1.678321e+06</td>\n      <td>9.876543e+06</td>\n    </tr>\n  </tbody>\n</table>\n</div>"
     },
     "metadata": {},
     "execution_count": 26
    }
   ],
   "source": [
    "log.describe()"
   ]
  },
  {
   "cell_type": "code",
   "execution_count": 47,
   "metadata": {},
   "outputs": [],
   "source": [
    "users = pd.read_csv('https://lms.skillfactory.ru/assets/courseware/v1/5471c5ea3f70b9fefce686c669d5ce2c/asset-v1:Skillfactory+DST-PRO+15APR2020+type@asset+block/users.csv', encoding='koi8_r', sep='\\t', names=['user_id', 'email', 'geo', ])"
   ]
  },
  {
   "cell_type": "code",
   "execution_count": 48,
   "metadata": {
    "tags": []
   },
   "outputs": [
    {
     "output_type": "stream",
     "name": "stdout",
     "text": "<class 'pandas.core.frame.DataFrame'>\nRangeIndex: 101 entries, 0 to 100\nData columns (total 3 columns):\nuser_id    101 non-null object\nemail      100 non-null object\ngeo        98 non-null object\ndtypes: object(3)\nmemory usage: 2.4+ KB\n"
    }
   ],
   "source": [
    "users.info()"
   ]
  },
  {
   "cell_type": "code",
   "execution_count": null,
   "metadata": {},
   "outputs": [],
   "source": [
    "users.columns = ['user_id', 'email', 'geo', ]"
   ]
  },
  {
   "cell_type": "code",
   "execution_count": 49,
   "metadata": {},
   "outputs": [
    {
     "output_type": "execute_result",
     "data": {
      "text/plain": "array(['Иванов', nan, 'sidorov', '_______', 'Кузнецов', 'Сажин',\n       'Котлеревский', 'Завалишина', 'Левина', 'Фикс'], dtype=object)"
     },
     "metadata": {},
     "execution_count": 49
    }
   ],
   "source": [
    "sample.name.unique()"
   ]
  },
  {
   "cell_type": "code",
   "execution_count": 50,
   "metadata": {
    "tags": []
   },
   "outputs": [
    {
     "output_type": "stream",
     "name": "stdout",
     "text": "<class 'pandas.core.frame.DataFrame'>\nRangeIndex: 11 entries, 0 to 10\nData columns (total 4 columns):\nname          10 non-null object\ncity          10 non-null object\nage           11 non-null int64\nprofession    11 non-null object\ndtypes: int64(1), object(3)\nmemory usage: 432.0+ bytes\n"
    }
   ],
   "source": [
    "sample.info()"
   ]
  },
  {
   "cell_type": "code",
   "execution_count": 51,
   "metadata": {},
   "outputs": [
    {
     "output_type": "execute_result",
     "data": {
      "text/plain": "array(['Запись пользователя № - user_919',\n       'Запись пользователя № - user_973',\n       'Запись пользователя № - user_903',\n       'Запись пользователя № - user_954',\n       'Запись пользователя № - user_917',\n       'Запись пользователя № - user_900',\n       'Запись пользователя № - user_980',\n       'Запись пользователя № - user_906',\n       'Запись пользователя № - user_952',\n       'Запись пользователя № - user_972',\n       'Запись пользователя № - user_966',\n       'Запись пользователя № - user_964',\n       'Запись пользователя № - user_978',\n       'Запись пользователя № - user_968',\n       'Запись пользователя № - user_974',\n       'Запись пользователя № - user_998',\n       'Запись пользователя № - user_990',\n       'Запись пользователя № - user_942',\n       'Запись пользователя № - user_929',\n       'Запись пользователя № - user_976',\n       'Запись пользователя № - user_927',\n       'Запись пользователя № - user_951',\n       'Запись пользователя № - user_949',\n       'Запись пользователя № - user_987',\n       'Запись пользователя № - user_985',\n       'Запись пользователя № - user_992',\n       'Запись пользователя № - user_937',\n       'Запись пользователя № - user_913',\n       'Запись пользователя № - user_948',\n       'Запись пользователя № - user_916',\n       'Запись пользователя № - user_938',\n       'Запись пользователя № - user_997',\n       'Запись пользователя № - user_940',\n       'Запись пользователя № - user_918',\n       'Запись пользователя № - user_960',\n       'Запись пользователя № - user_905',\n       'Запись пользователя № - user_924',\n       'Запись пользователя № - user_958',\n       'Запись пользователя № - user_920',\n       'Запись пользователя № - user_943',\n       'Запись пользователя № - user_935',\n       'Запись пользователя № - user_915',\n       'Запись пользователя № - user_921',\n       'Запись пользователя № - user_999',\n       'Запись пользователя № - user_982',\n       'Запись пользователя № - user_928',\n       'Запись пользователя № - user_944',\n       'Запись пользователя № - user_912',\n       'Запись пользователя № - user_969',\n       'Запись пользователя № - user_901',\n       'Запись пользователя № - user_995',\n       'Запись пользователя № - user_933',\n       'Запись пользователя № - user_986',\n       'Запись пользователя № - user_971',\n       'Запись пользователя № - user_977',\n       'Запись пользователя № - user_979',\n       'Запись пользователя № - user_910',\n       'Запись пользователя № - user_994',\n       'Запись пользователя № - user_907',\n       'Запись пользователя № - user_941',\n       'Запись пользователя № - user_989',\n       'Запись пользователя № - user_955',\n       'Запись пользователя № - user_991',\n       'Запись пользователя № - user_996',\n       'Запись пользователя № - user_926',\n       'Запись пользователя № - user_984',\n       'Запись пользователя № - user_957',\n       'Запись пользователя № - user_914',\n       'Запись пользователя № - user_988',\n       'Запись пользователя № - user_923',\n       'Запись пользователя № - user_967',\n       'Запись пользователя № - user_945',\n       'Запись пользователя № - user_993',\n       'Запись пользователя № - user_908',\n       'Запись пользователя № - user_930',\n       'Запись пользователя № - user_981',\n       'Запись пользователя № - user_936',\n       'Запись пользователя № - user_922',\n       'Запись пользователя № - user_962',\n       'Запись пользователя № - user_965',\n       'Запись пользователя № - user_959',\n       'Запись пользователя № - user_963',\n       'Запись пользователя № - user_904',\n       'Запись пользователя № - user_931',\n       'Запись пользователя № - user_1000',\n       'Запись пользователя № - user_946',\n       'Запись пользователя № - user_970',\n       'Запись пользователя № - user_939',\n       'Запись пользователя № - user_961',\n       'Запись пользователя № - user_911',\n       'Запись пользователя № - user_950',\n       'Запись пользователя № - user_956',\n       'Запись пользователя № - user_909',\n       'Запись пользователя № - user_983',\n       'Запись пользователя № - user_902',\n       'Запись пользователя № - user_947',\n       'Запись пользователя № - user_975',\n       'Запись пользователя № - user_953',\n       'Запись пользователя № - user_925',\n       'Запись пользователя № - user_934',\n       'Запись пользователя № - user_932', '#error'], dtype=object)"
     },
     "metadata": {},
     "execution_count": 51
    }
   ],
   "source": [
    "log.user_id.unique()"
   ]
  },
  {
   "cell_type": "code",
   "execution_count": 52,
   "metadata": {},
   "outputs": [
    {
     "output_type": "execute_result",
     "data": {
      "text/plain": "       name    city  age profession\n0    Иванов  Москва   25     Клинер\n2    Иванов  Москва   25     Клинер\n5  Кузнецов    Сочи   19    Рабочий\n6     Сажин  Сургут   29    Рабочий",
      "text/html": "<div>\n<style scoped>\n    .dataframe tbody tr th:only-of-type {\n        vertical-align: middle;\n    }\n\n    .dataframe tbody tr th {\n        vertical-align: top;\n    }\n\n    .dataframe thead th {\n        text-align: right;\n    }\n</style>\n<table border=\"1\" class=\"dataframe\">\n  <thead>\n    <tr style=\"text-align: right;\">\n      <th></th>\n      <th>name</th>\n      <th>city</th>\n      <th>age</th>\n      <th>profession</th>\n    </tr>\n  </thead>\n  <tbody>\n    <tr>\n      <th>0</th>\n      <td>Иванов</td>\n      <td>Москва</td>\n      <td>25</td>\n      <td>Клинер</td>\n    </tr>\n    <tr>\n      <th>2</th>\n      <td>Иванов</td>\n      <td>Москва</td>\n      <td>25</td>\n      <td>Клинер</td>\n    </tr>\n    <tr>\n      <th>5</th>\n      <td>Кузнецов</td>\n      <td>Сочи</td>\n      <td>19</td>\n      <td>Рабочий</td>\n    </tr>\n    <tr>\n      <th>6</th>\n      <td>Сажин</td>\n      <td>Сургут</td>\n      <td>29</td>\n      <td>Рабочий</td>\n    </tr>\n  </tbody>\n</table>\n</div>"
     },
     "metadata": {},
     "execution_count": 52
    }
   ],
   "source": [
    "sample2 = sample[sample.age < 30]\n",
    "sample2"
   ]
  },
  {
   "cell_type": "code",
   "execution_count": 58,
   "metadata": {},
   "outputs": [
    {
     "output_type": "execute_result",
     "data": {
      "text/plain": "138"
     },
     "metadata": {},
     "execution_count": 58
    }
   ],
   "source": [
    "log_win = log[log.win > 0]\n",
    "win_count = len(log_win)\n",
    "win_count"
   ]
  },
  {
   "cell_type": "code",
   "execution_count": 59,
   "metadata": {},
   "outputs": [
    {
     "output_type": "execute_result",
     "data": {
      "text/plain": "       name    city  age profession\n5  Кузнецов    Сочи   19    Рабочий\n6     Сажин  Сургут   29    Рабочий",
      "text/html": "<div>\n<style scoped>\n    .dataframe tbody tr th:only-of-type {\n        vertical-align: middle;\n    }\n\n    .dataframe tbody tr th {\n        vertical-align: top;\n    }\n\n    .dataframe thead th {\n        text-align: right;\n    }\n</style>\n<table border=\"1\" class=\"dataframe\">\n  <thead>\n    <tr style=\"text-align: right;\">\n      <th></th>\n      <th>name</th>\n      <th>city</th>\n      <th>age</th>\n      <th>profession</th>\n    </tr>\n  </thead>\n  <tbody>\n    <tr>\n      <th>5</th>\n      <td>Кузнецов</td>\n      <td>Сочи</td>\n      <td>19</td>\n      <td>Рабочий</td>\n    </tr>\n    <tr>\n      <th>6</th>\n      <td>Сажин</td>\n      <td>Сургут</td>\n      <td>29</td>\n      <td>Рабочий</td>\n    </tr>\n  </tbody>\n</table>\n</div>"
     },
     "metadata": {},
     "execution_count": 59
    }
   ],
   "source": [
    "sample2 = sample[(sample.age < 30) & (sample.profession == 'Рабочий')]\n",
    "sample2"
   ]
  },
  {
   "cell_type": "code",
   "execution_count": 61,
   "metadata": {},
   "outputs": [
    {
     "output_type": "execute_result",
     "data": {
      "text/plain": "                               user_id                  time     bet     win\n151   Запись пользователя № - user_982  [2019-01-16 21:54:22   100.0  4749.0\n189   Запись пользователя № - user_964  [2019-01-21 18:34:44   200.0  4667.0\n205   Запись пользователя № - user_931   [2019-01-22 5:26:59   300.0  4319.0\n232   Запись пользователя № - user_998   [2019-01-25 8:57:20   500.0  5069.0\n265   Запись пользователя № - user_998  [2019-01-29 10:37:55   500.0  6294.0\n294   Запись пользователя № - user_931  [2019-02-02 12:34:44   700.0  6516.0\n348   Запись пользователя № - user_900  [2019-02-08 10:36:47   200.0  5290.0\n360   Запись пользователя № - user_921  [2019-02-09 23:20:21   400.0  6067.0\n367   Запись пользователя № - user_943  [2019-02-10 11:09:24   100.0  5456.0\n376   Запись пользователя № - user_903  [2019-02-10 20:23:10   700.0  6726.0\n384   Запись пользователя № - user_972  [2019-02-11 18:48:39   300.0  5035.0\n393   Запись пользователя № - user_943  [2019-02-12 15:09:38   300.0  5245.0\n461   Запись пользователя № - user_924  [2019-02-19 17:10:32   300.0  5266.0\n469   Запись пользователя № - user_979  [2019-02-20 15:03:15   100.0  3691.0\n509   Запись пользователя № - user_918   [2019-02-25 1:50:30   400.0  4829.0\n517   Запись пользователя № - user_913   [2019-02-26 0:55:59   100.0  5066.0\n522   Запись пользователя № - user_947  [2019-02-26 15:01:40   100.0  4378.0\n523   Запись пользователя № - user_972  [2019-02-26 15:15:48   500.0  4894.0\n526   Запись пользователя № - user_964  [2019-02-26 17:02:53   500.0  4889.0\n545   Запись пользователя № - user_909  [2019-02-28 23:16:35   200.0  5237.0\n549   Запись пользователя № - user_952   [2019-02-28 6:06:55   800.0  5590.0\n557   Запись пользователя № - user_995  [2019-03-01 23:48:11   400.0  5889.0\n568   Запись пользователя № - user_975   [2019-03-03 1:24:56   100.0  3927.0\n574   Запись пользователя № - user_938   [2019-03-03 2:40:29   100.0  5323.0\n581   Запись пользователя № - user_971  [2019-03-04 23:12:39   900.0  6916.0\n584   Запись пользователя № - user_982   [2019-03-04 7:36:28   800.0  6480.0\n585   Запись пользователя № - user_900   [2019-03-05 0:18:34   300.0  5638.0\n591   Запись пользователя № - user_944  [2019-03-05 21:49:31   100.0  4119.0\n595   Запись пользователя № - user_908   [2019-03-05 8:01:59   200.0  4216.0\n596   Запись пользователя № - user_961   [2019-03-05 9:23:59   500.0  6387.0\n..                                 ...                   ...     ...     ...\n856   Запись пользователя № - user_939   [2019-04-05 1:33:57   500.0  5036.0\n857  Запись пользователя № - user_1000  [2019-04-05 14:45:54   400.0  4701.0\n869   Запись пользователя № - user_923  [2019-04-07 15:44:49   500.0  6431.0\n870   Запись пользователя № - user_923  [2019-04-07 22:40:53   800.0  6313.0\n884   Запись пользователя № - user_983   [2019-04-08 4:44:14   400.0  5450.0\n890   Запись пользователя № - user_986   [2019-04-09 8:48:19  1000.0  7078.0\n893   Запись пользователя № - user_984  [2019-04-10 14:15:31   500.0  5133.0\n907   Запись пользователя № - user_939  [2019-04-12 13:35:25   500.0  5305.0\n910   Запись пользователя № - user_947  [2019-04-12 18:39:39  1000.0  6610.0\n911   Запись пользователя № - user_957  [2019-04-12 20:10:00   200.0  5398.0\n918   Запись пользователя № - user_990  [2019-04-13 19:48:33  1000.0  7382.0\n919   Запись пользователя № - user_957   [2019-04-13 3:06:11   500.0  6134.0\n921   Запись пользователя № - user_950   [2019-04-13 6:25:18   600.0  5340.0\n927   Запись пользователя № - user_950  [2019-04-14 19:47:32  1000.0  5778.0\n931   Запись пользователя № - user_974  [2019-04-15 23:12:16   700.0  6173.0\n936   Запись пользователя № - user_944   [2019-04-15 9:19:57   700.0  5453.0\n940   Запись пользователя № - user_956  [2019-04-16 12:29:04   400.0  4650.0\n941   Запись пользователя № - user_957  [2019-04-16 13:44:51   700.0  6171.0\n947   Запись пользователя № - user_900   [2019-04-17 0:46:08   900.0  6802.0\n948   Запись пользователя № - user_960   [2019-04-17 1:26:39   900.0  6363.0\n949   Запись пользователя № - user_917  [2019-04-17 22:08:07   600.0  6382.0\n952   Запись пользователя № - user_937  [2019-04-18 10:17:45   800.0  6570.0\n953   Запись пользователя № - user_932  [2019-04-18 14:55:26   700.0  6640.0\n955   Запись пользователя № - user_967  [2019-04-18 19:43:51   200.0  5213.0\n961   Запись пользователя № - user_950   [2019-04-18 8:14:24  1000.0  6072.0\n962   Запись пользователя № - user_976  [2019-04-19 14:18:45   400.0  5997.0\n965   Запись пользователя № - user_900  [2019-04-19 19:31:48   900.0  6767.0\n967   Запись пользователя № - user_975  [2019-04-19 22:25:15  1000.0  6108.0\n981                             #error                   NaN   800.0  7035.0\n991   Запись пользователя № - user_965  [2019-04-20 12:55:41   800.0  6927.0\n\n[113 rows x 4 columns]",
      "text/html": "<div>\n<style scoped>\n    .dataframe tbody tr th:only-of-type {\n        vertical-align: middle;\n    }\n\n    .dataframe tbody tr th {\n        vertical-align: top;\n    }\n\n    .dataframe thead th {\n        text-align: right;\n    }\n</style>\n<table border=\"1\" class=\"dataframe\">\n  <thead>\n    <tr style=\"text-align: right;\">\n      <th></th>\n      <th>user_id</th>\n      <th>time</th>\n      <th>bet</th>\n      <th>win</th>\n    </tr>\n  </thead>\n  <tbody>\n    <tr>\n      <th>151</th>\n      <td>Запись пользователя № - user_982</td>\n      <td>[2019-01-16 21:54:22</td>\n      <td>100.0</td>\n      <td>4749.0</td>\n    </tr>\n    <tr>\n      <th>189</th>\n      <td>Запись пользователя № - user_964</td>\n      <td>[2019-01-21 18:34:44</td>\n      <td>200.0</td>\n      <td>4667.0</td>\n    </tr>\n    <tr>\n      <th>205</th>\n      <td>Запись пользователя № - user_931</td>\n      <td>[2019-01-22 5:26:59</td>\n      <td>300.0</td>\n      <td>4319.0</td>\n    </tr>\n    <tr>\n      <th>232</th>\n      <td>Запись пользователя № - user_998</td>\n      <td>[2019-01-25 8:57:20</td>\n      <td>500.0</td>\n      <td>5069.0</td>\n    </tr>\n    <tr>\n      <th>265</th>\n      <td>Запись пользователя № - user_998</td>\n      <td>[2019-01-29 10:37:55</td>\n      <td>500.0</td>\n      <td>6294.0</td>\n    </tr>\n    <tr>\n      <th>294</th>\n      <td>Запись пользователя № - user_931</td>\n      <td>[2019-02-02 12:34:44</td>\n      <td>700.0</td>\n      <td>6516.0</td>\n    </tr>\n    <tr>\n      <th>348</th>\n      <td>Запись пользователя № - user_900</td>\n      <td>[2019-02-08 10:36:47</td>\n      <td>200.0</td>\n      <td>5290.0</td>\n    </tr>\n    <tr>\n      <th>360</th>\n      <td>Запись пользователя № - user_921</td>\n      <td>[2019-02-09 23:20:21</td>\n      <td>400.0</td>\n      <td>6067.0</td>\n    </tr>\n    <tr>\n      <th>367</th>\n      <td>Запись пользователя № - user_943</td>\n      <td>[2019-02-10 11:09:24</td>\n      <td>100.0</td>\n      <td>5456.0</td>\n    </tr>\n    <tr>\n      <th>376</th>\n      <td>Запись пользователя № - user_903</td>\n      <td>[2019-02-10 20:23:10</td>\n      <td>700.0</td>\n      <td>6726.0</td>\n    </tr>\n    <tr>\n      <th>384</th>\n      <td>Запись пользователя № - user_972</td>\n      <td>[2019-02-11 18:48:39</td>\n      <td>300.0</td>\n      <td>5035.0</td>\n    </tr>\n    <tr>\n      <th>393</th>\n      <td>Запись пользователя № - user_943</td>\n      <td>[2019-02-12 15:09:38</td>\n      <td>300.0</td>\n      <td>5245.0</td>\n    </tr>\n    <tr>\n      <th>461</th>\n      <td>Запись пользователя № - user_924</td>\n      <td>[2019-02-19 17:10:32</td>\n      <td>300.0</td>\n      <td>5266.0</td>\n    </tr>\n    <tr>\n      <th>469</th>\n      <td>Запись пользователя № - user_979</td>\n      <td>[2019-02-20 15:03:15</td>\n      <td>100.0</td>\n      <td>3691.0</td>\n    </tr>\n    <tr>\n      <th>509</th>\n      <td>Запись пользователя № - user_918</td>\n      <td>[2019-02-25 1:50:30</td>\n      <td>400.0</td>\n      <td>4829.0</td>\n    </tr>\n    <tr>\n      <th>517</th>\n      <td>Запись пользователя № - user_913</td>\n      <td>[2019-02-26 0:55:59</td>\n      <td>100.0</td>\n      <td>5066.0</td>\n    </tr>\n    <tr>\n      <th>522</th>\n      <td>Запись пользователя № - user_947</td>\n      <td>[2019-02-26 15:01:40</td>\n      <td>100.0</td>\n      <td>4378.0</td>\n    </tr>\n    <tr>\n      <th>523</th>\n      <td>Запись пользователя № - user_972</td>\n      <td>[2019-02-26 15:15:48</td>\n      <td>500.0</td>\n      <td>4894.0</td>\n    </tr>\n    <tr>\n      <th>526</th>\n      <td>Запись пользователя № - user_964</td>\n      <td>[2019-02-26 17:02:53</td>\n      <td>500.0</td>\n      <td>4889.0</td>\n    </tr>\n    <tr>\n      <th>545</th>\n      <td>Запись пользователя № - user_909</td>\n      <td>[2019-02-28 23:16:35</td>\n      <td>200.0</td>\n      <td>5237.0</td>\n    </tr>\n    <tr>\n      <th>549</th>\n      <td>Запись пользователя № - user_952</td>\n      <td>[2019-02-28 6:06:55</td>\n      <td>800.0</td>\n      <td>5590.0</td>\n    </tr>\n    <tr>\n      <th>557</th>\n      <td>Запись пользователя № - user_995</td>\n      <td>[2019-03-01 23:48:11</td>\n      <td>400.0</td>\n      <td>5889.0</td>\n    </tr>\n    <tr>\n      <th>568</th>\n      <td>Запись пользователя № - user_975</td>\n      <td>[2019-03-03 1:24:56</td>\n      <td>100.0</td>\n      <td>3927.0</td>\n    </tr>\n    <tr>\n      <th>574</th>\n      <td>Запись пользователя № - user_938</td>\n      <td>[2019-03-03 2:40:29</td>\n      <td>100.0</td>\n      <td>5323.0</td>\n    </tr>\n    <tr>\n      <th>581</th>\n      <td>Запись пользователя № - user_971</td>\n      <td>[2019-03-04 23:12:39</td>\n      <td>900.0</td>\n      <td>6916.0</td>\n    </tr>\n    <tr>\n      <th>584</th>\n      <td>Запись пользователя № - user_982</td>\n      <td>[2019-03-04 7:36:28</td>\n      <td>800.0</td>\n      <td>6480.0</td>\n    </tr>\n    <tr>\n      <th>585</th>\n      <td>Запись пользователя № - user_900</td>\n      <td>[2019-03-05 0:18:34</td>\n      <td>300.0</td>\n      <td>5638.0</td>\n    </tr>\n    <tr>\n      <th>591</th>\n      <td>Запись пользователя № - user_944</td>\n      <td>[2019-03-05 21:49:31</td>\n      <td>100.0</td>\n      <td>4119.0</td>\n    </tr>\n    <tr>\n      <th>595</th>\n      <td>Запись пользователя № - user_908</td>\n      <td>[2019-03-05 8:01:59</td>\n      <td>200.0</td>\n      <td>4216.0</td>\n    </tr>\n    <tr>\n      <th>596</th>\n      <td>Запись пользователя № - user_961</td>\n      <td>[2019-03-05 9:23:59</td>\n      <td>500.0</td>\n      <td>6387.0</td>\n    </tr>\n    <tr>\n      <th>...</th>\n      <td>...</td>\n      <td>...</td>\n      <td>...</td>\n      <td>...</td>\n    </tr>\n    <tr>\n      <th>856</th>\n      <td>Запись пользователя № - user_939</td>\n      <td>[2019-04-05 1:33:57</td>\n      <td>500.0</td>\n      <td>5036.0</td>\n    </tr>\n    <tr>\n      <th>857</th>\n      <td>Запись пользователя № - user_1000</td>\n      <td>[2019-04-05 14:45:54</td>\n      <td>400.0</td>\n      <td>4701.0</td>\n    </tr>\n    <tr>\n      <th>869</th>\n      <td>Запись пользователя № - user_923</td>\n      <td>[2019-04-07 15:44:49</td>\n      <td>500.0</td>\n      <td>6431.0</td>\n    </tr>\n    <tr>\n      <th>870</th>\n      <td>Запись пользователя № - user_923</td>\n      <td>[2019-04-07 22:40:53</td>\n      <td>800.0</td>\n      <td>6313.0</td>\n    </tr>\n    <tr>\n      <th>884</th>\n      <td>Запись пользователя № - user_983</td>\n      <td>[2019-04-08 4:44:14</td>\n      <td>400.0</td>\n      <td>5450.0</td>\n    </tr>\n    <tr>\n      <th>890</th>\n      <td>Запись пользователя № - user_986</td>\n      <td>[2019-04-09 8:48:19</td>\n      <td>1000.0</td>\n      <td>7078.0</td>\n    </tr>\n    <tr>\n      <th>893</th>\n      <td>Запись пользователя № - user_984</td>\n      <td>[2019-04-10 14:15:31</td>\n      <td>500.0</td>\n      <td>5133.0</td>\n    </tr>\n    <tr>\n      <th>907</th>\n      <td>Запись пользователя № - user_939</td>\n      <td>[2019-04-12 13:35:25</td>\n      <td>500.0</td>\n      <td>5305.0</td>\n    </tr>\n    <tr>\n      <th>910</th>\n      <td>Запись пользователя № - user_947</td>\n      <td>[2019-04-12 18:39:39</td>\n      <td>1000.0</td>\n      <td>6610.0</td>\n    </tr>\n    <tr>\n      <th>911</th>\n      <td>Запись пользователя № - user_957</td>\n      <td>[2019-04-12 20:10:00</td>\n      <td>200.0</td>\n      <td>5398.0</td>\n    </tr>\n    <tr>\n      <th>918</th>\n      <td>Запись пользователя № - user_990</td>\n      <td>[2019-04-13 19:48:33</td>\n      <td>1000.0</td>\n      <td>7382.0</td>\n    </tr>\n    <tr>\n      <th>919</th>\n      <td>Запись пользователя № - user_957</td>\n      <td>[2019-04-13 3:06:11</td>\n      <td>500.0</td>\n      <td>6134.0</td>\n    </tr>\n    <tr>\n      <th>921</th>\n      <td>Запись пользователя № - user_950</td>\n      <td>[2019-04-13 6:25:18</td>\n      <td>600.0</td>\n      <td>5340.0</td>\n    </tr>\n    <tr>\n      <th>927</th>\n      <td>Запись пользователя № - user_950</td>\n      <td>[2019-04-14 19:47:32</td>\n      <td>1000.0</td>\n      <td>5778.0</td>\n    </tr>\n    <tr>\n      <th>931</th>\n      <td>Запись пользователя № - user_974</td>\n      <td>[2019-04-15 23:12:16</td>\n      <td>700.0</td>\n      <td>6173.0</td>\n    </tr>\n    <tr>\n      <th>936</th>\n      <td>Запись пользователя № - user_944</td>\n      <td>[2019-04-15 9:19:57</td>\n      <td>700.0</td>\n      <td>5453.0</td>\n    </tr>\n    <tr>\n      <th>940</th>\n      <td>Запись пользователя № - user_956</td>\n      <td>[2019-04-16 12:29:04</td>\n      <td>400.0</td>\n      <td>4650.0</td>\n    </tr>\n    <tr>\n      <th>941</th>\n      <td>Запись пользователя № - user_957</td>\n      <td>[2019-04-16 13:44:51</td>\n      <td>700.0</td>\n      <td>6171.0</td>\n    </tr>\n    <tr>\n      <th>947</th>\n      <td>Запись пользователя № - user_900</td>\n      <td>[2019-04-17 0:46:08</td>\n      <td>900.0</td>\n      <td>6802.0</td>\n    </tr>\n    <tr>\n      <th>948</th>\n      <td>Запись пользователя № - user_960</td>\n      <td>[2019-04-17 1:26:39</td>\n      <td>900.0</td>\n      <td>6363.0</td>\n    </tr>\n    <tr>\n      <th>949</th>\n      <td>Запись пользователя № - user_917</td>\n      <td>[2019-04-17 22:08:07</td>\n      <td>600.0</td>\n      <td>6382.0</td>\n    </tr>\n    <tr>\n      <th>952</th>\n      <td>Запись пользователя № - user_937</td>\n      <td>[2019-04-18 10:17:45</td>\n      <td>800.0</td>\n      <td>6570.0</td>\n    </tr>\n    <tr>\n      <th>953</th>\n      <td>Запись пользователя № - user_932</td>\n      <td>[2019-04-18 14:55:26</td>\n      <td>700.0</td>\n      <td>6640.0</td>\n    </tr>\n    <tr>\n      <th>955</th>\n      <td>Запись пользователя № - user_967</td>\n      <td>[2019-04-18 19:43:51</td>\n      <td>200.0</td>\n      <td>5213.0</td>\n    </tr>\n    <tr>\n      <th>961</th>\n      <td>Запись пользователя № - user_950</td>\n      <td>[2019-04-18 8:14:24</td>\n      <td>1000.0</td>\n      <td>6072.0</td>\n    </tr>\n    <tr>\n      <th>962</th>\n      <td>Запись пользователя № - user_976</td>\n      <td>[2019-04-19 14:18:45</td>\n      <td>400.0</td>\n      <td>5997.0</td>\n    </tr>\n    <tr>\n      <th>965</th>\n      <td>Запись пользователя № - user_900</td>\n      <td>[2019-04-19 19:31:48</td>\n      <td>900.0</td>\n      <td>6767.0</td>\n    </tr>\n    <tr>\n      <th>967</th>\n      <td>Запись пользователя № - user_975</td>\n      <td>[2019-04-19 22:25:15</td>\n      <td>1000.0</td>\n      <td>6108.0</td>\n    </tr>\n    <tr>\n      <th>981</th>\n      <td>#error</td>\n      <td>NaN</td>\n      <td>800.0</td>\n      <td>7035.0</td>\n    </tr>\n    <tr>\n      <th>991</th>\n      <td>Запись пользователя № - user_965</td>\n      <td>[2019-04-20 12:55:41</td>\n      <td>800.0</td>\n      <td>6927.0</td>\n    </tr>\n  </tbody>\n</table>\n<p>113 rows × 4 columns</p>\n</div>"
     },
     "metadata": {},
     "execution_count": 61
    }
   ],
   "source": [
    "log2 = log.query('bet < 2000 & win > 0')\n",
    "log2"
   ]
  },
  {
   "cell_type": "code",
   "execution_count": 64,
   "metadata": {},
   "outputs": [
    {
     "output_type": "execute_result",
     "data": {
      "text/plain": "           name         city  age profession\n0        Иванов       Москва   25     Клинер\n1           NaN    Волгоград   31   Менеджер\n2        Иванов       Москва   25     Клинер\n3       sidorov  Владивосток   43   Менеджер\n5      Кузнецов         Сочи   19    Рабочий\n7  Котлеревский   Йошкар-Ола   32    Рабочий\n8    Завалишина    Чебоксары   36   Менеджер",
      "text/html": "<div>\n<style scoped>\n    .dataframe tbody tr th:only-of-type {\n        vertical-align: middle;\n    }\n\n    .dataframe tbody tr th {\n        vertical-align: top;\n    }\n\n    .dataframe thead th {\n        text-align: right;\n    }\n</style>\n<table border=\"1\" class=\"dataframe\">\n  <thead>\n    <tr style=\"text-align: right;\">\n      <th></th>\n      <th>name</th>\n      <th>city</th>\n      <th>age</th>\n      <th>profession</th>\n    </tr>\n  </thead>\n  <tbody>\n    <tr>\n      <th>0</th>\n      <td>Иванов</td>\n      <td>Москва</td>\n      <td>25</td>\n      <td>Клинер</td>\n    </tr>\n    <tr>\n      <th>1</th>\n      <td>NaN</td>\n      <td>Волгоград</td>\n      <td>31</td>\n      <td>Менеджер</td>\n    </tr>\n    <tr>\n      <th>2</th>\n      <td>Иванов</td>\n      <td>Москва</td>\n      <td>25</td>\n      <td>Клинер</td>\n    </tr>\n    <tr>\n      <th>3</th>\n      <td>sidorov</td>\n      <td>Владивосток</td>\n      <td>43</td>\n      <td>Менеджер</td>\n    </tr>\n    <tr>\n      <th>5</th>\n      <td>Кузнецов</td>\n      <td>Сочи</td>\n      <td>19</td>\n      <td>Рабочий</td>\n    </tr>\n    <tr>\n      <th>7</th>\n      <td>Котлеревский</td>\n      <td>Йошкар-Ола</td>\n      <td>32</td>\n      <td>Рабочий</td>\n    </tr>\n    <tr>\n      <th>8</th>\n      <td>Завалишина</td>\n      <td>Чебоксары</td>\n      <td>36</td>\n      <td>Менеджер</td>\n    </tr>\n  </tbody>\n</table>\n</div>"
     },
     "metadata": {},
     "execution_count": 64
    }
   ],
   "source": [
    "sample3 = sample[sample.city.str.contains('о', na=False)]\n",
    "sample3"
   ]
  },
  {
   "cell_type": "code",
   "execution_count": 65,
   "metadata": {},
   "outputs": [
    {
     "output_type": "execute_result",
     "data": {
      "text/plain": "       name    city  age profession\n4   _______   Курск   50   Водитель\n6     Сажин  Сургут   29    Рабочий\n9    Левина     NaN   55    Рабочий\n10     Фикс    Рига   42    Рабочий",
      "text/html": "<div>\n<style scoped>\n    .dataframe tbody tr th:only-of-type {\n        vertical-align: middle;\n    }\n\n    .dataframe tbody tr th {\n        vertical-align: top;\n    }\n\n    .dataframe thead th {\n        text-align: right;\n    }\n</style>\n<table border=\"1\" class=\"dataframe\">\n  <thead>\n    <tr style=\"text-align: right;\">\n      <th></th>\n      <th>name</th>\n      <th>city</th>\n      <th>age</th>\n      <th>profession</th>\n    </tr>\n  </thead>\n  <tbody>\n    <tr>\n      <th>4</th>\n      <td>_______</td>\n      <td>Курск</td>\n      <td>50</td>\n      <td>Водитель</td>\n    </tr>\n    <tr>\n      <th>6</th>\n      <td>Сажин</td>\n      <td>Сургут</td>\n      <td>29</td>\n      <td>Рабочий</td>\n    </tr>\n    <tr>\n      <th>9</th>\n      <td>Левина</td>\n      <td>NaN</td>\n      <td>55</td>\n      <td>Рабочий</td>\n    </tr>\n    <tr>\n      <th>10</th>\n      <td>Фикс</td>\n      <td>Рига</td>\n      <td>42</td>\n      <td>Рабочий</td>\n    </tr>\n  </tbody>\n</table>\n</div>"
     },
     "metadata": {},
     "execution_count": 65
    }
   ],
   "source": [
    "sample4 = sample[~sample.city.str.contains('о', na=False)]\n",
    "sample4"
   ]
  },
  {
   "cell_type": "code",
   "execution_count": 66,
   "metadata": {},
   "outputs": [],
   "source": [
    "new_log = log[~log.user_id.str.contains('error')]"
   ]
  },
  {
   "cell_type": "code",
   "execution_count": 85,
   "metadata": {},
   "outputs": [
    {
     "output_type": "execute_result",
     "data": {
      "text/plain": "            Name         City  Age Profession\n0         Иванов       Москва   26     Клинер\n1            NaN    Волгоград   32   Менеджер\n2         Иванов       Москва   26     Клинер\n3        sidorov  Владивосток   44   Менеджер\n4        _______        Курск   51   Водитель\n5       Кузнецов         Сочи   20    Рабочий\n6          Сажин       Сургут   30    Рабочий\n7   Котлеревский   Йошкар-Ола   33    Рабочий\n8     Завалишина    Чебоксары   37   Менеджер\n9         Левина          NaN   56    Рабочий\n10          Фикс         Рига   43    Рабочий",
      "text/html": "<div>\n<style scoped>\n    .dataframe tbody tr th:only-of-type {\n        vertical-align: middle;\n    }\n\n    .dataframe tbody tr th {\n        vertical-align: top;\n    }\n\n    .dataframe thead th {\n        text-align: right;\n    }\n</style>\n<table border=\"1\" class=\"dataframe\">\n  <thead>\n    <tr style=\"text-align: right;\">\n      <th></th>\n      <th>Name</th>\n      <th>City</th>\n      <th>Age</th>\n      <th>Profession</th>\n    </tr>\n  </thead>\n  <tbody>\n    <tr>\n      <th>0</th>\n      <td>Иванов</td>\n      <td>Москва</td>\n      <td>26</td>\n      <td>Клинер</td>\n    </tr>\n    <tr>\n      <th>1</th>\n      <td>NaN</td>\n      <td>Волгоград</td>\n      <td>32</td>\n      <td>Менеджер</td>\n    </tr>\n    <tr>\n      <th>2</th>\n      <td>Иванов</td>\n      <td>Москва</td>\n      <td>26</td>\n      <td>Клинер</td>\n    </tr>\n    <tr>\n      <th>3</th>\n      <td>sidorov</td>\n      <td>Владивосток</td>\n      <td>44</td>\n      <td>Менеджер</td>\n    </tr>\n    <tr>\n      <th>4</th>\n      <td>_______</td>\n      <td>Курск</td>\n      <td>51</td>\n      <td>Водитель</td>\n    </tr>\n    <tr>\n      <th>5</th>\n      <td>Кузнецов</td>\n      <td>Сочи</td>\n      <td>20</td>\n      <td>Рабочий</td>\n    </tr>\n    <tr>\n      <th>6</th>\n      <td>Сажин</td>\n      <td>Сургут</td>\n      <td>30</td>\n      <td>Рабочий</td>\n    </tr>\n    <tr>\n      <th>7</th>\n      <td>Котлеревский</td>\n      <td>Йошкар-Ола</td>\n      <td>33</td>\n      <td>Рабочий</td>\n    </tr>\n    <tr>\n      <th>8</th>\n      <td>Завалишина</td>\n      <td>Чебоксары</td>\n      <td>37</td>\n      <td>Менеджер</td>\n    </tr>\n    <tr>\n      <th>9</th>\n      <td>Левина</td>\n      <td>NaN</td>\n      <td>56</td>\n      <td>Рабочий</td>\n    </tr>\n    <tr>\n      <th>10</th>\n      <td>Фикс</td>\n      <td>Рига</td>\n      <td>43</td>\n      <td>Рабочий</td>\n    </tr>\n  </tbody>\n</table>\n</div>"
     },
     "metadata": {},
     "execution_count": 85
    }
   ],
   "source": [
    "# sample = pd.read_csv('https://lms.skillfactory.ru/assets/courseware/v1/918e647bafd21deb4413804bd4a8c865/asset-v1:Skillfactory+DST-PRO+15APR2020+type@asset+block/sample.csv')\n",
    "sample2 = sample.copy()\n",
    "sample2.Age = sample2.Age.apply(lambda x: x + 1)\n",
    "sample2"
   ]
  },
  {
   "cell_type": "code",
   "execution_count": 86,
   "metadata": {},
   "outputs": [
    {
     "output_type": "execute_result",
     "data": {
      "text/plain": "            Name         City  Age Profession\n0         Иванов       москва   25     Клинер\n1            NaN    волгоград   31   Менеджер\n2         Иванов       москва   25     Клинер\n3        sidorov  владивосток   43   Менеджер\n4        _______        курск   50   Водитель\n5       Кузнецов         сочи   19    Рабочий\n6          Сажин       сургут   29    Рабочий\n7   Котлеревский   йошкар-ола   32    Рабочий\n8     Завалишина    чебоксары   36   Менеджер\n9         Левина          nan   55    Рабочий\n10          Фикс         рига   42    Рабочий",
      "text/html": "<div>\n<style scoped>\n    .dataframe tbody tr th:only-of-type {\n        vertical-align: middle;\n    }\n\n    .dataframe tbody tr th {\n        vertical-align: top;\n    }\n\n    .dataframe thead th {\n        text-align: right;\n    }\n</style>\n<table border=\"1\" class=\"dataframe\">\n  <thead>\n    <tr style=\"text-align: right;\">\n      <th></th>\n      <th>Name</th>\n      <th>City</th>\n      <th>Age</th>\n      <th>Profession</th>\n    </tr>\n  </thead>\n  <tbody>\n    <tr>\n      <th>0</th>\n      <td>Иванов</td>\n      <td>москва</td>\n      <td>25</td>\n      <td>Клинер</td>\n    </tr>\n    <tr>\n      <th>1</th>\n      <td>NaN</td>\n      <td>волгоград</td>\n      <td>31</td>\n      <td>Менеджер</td>\n    </tr>\n    <tr>\n      <th>2</th>\n      <td>Иванов</td>\n      <td>москва</td>\n      <td>25</td>\n      <td>Клинер</td>\n    </tr>\n    <tr>\n      <th>3</th>\n      <td>sidorov</td>\n      <td>владивосток</td>\n      <td>43</td>\n      <td>Менеджер</td>\n    </tr>\n    <tr>\n      <th>4</th>\n      <td>_______</td>\n      <td>курск</td>\n      <td>50</td>\n      <td>Водитель</td>\n    </tr>\n    <tr>\n      <th>5</th>\n      <td>Кузнецов</td>\n      <td>сочи</td>\n      <td>19</td>\n      <td>Рабочий</td>\n    </tr>\n    <tr>\n      <th>6</th>\n      <td>Сажин</td>\n      <td>сургут</td>\n      <td>29</td>\n      <td>Рабочий</td>\n    </tr>\n    <tr>\n      <th>7</th>\n      <td>Котлеревский</td>\n      <td>йошкар-ола</td>\n      <td>32</td>\n      <td>Рабочий</td>\n    </tr>\n    <tr>\n      <th>8</th>\n      <td>Завалишина</td>\n      <td>чебоксары</td>\n      <td>36</td>\n      <td>Менеджер</td>\n    </tr>\n    <tr>\n      <th>9</th>\n      <td>Левина</td>\n      <td>nan</td>\n      <td>55</td>\n      <td>Рабочий</td>\n    </tr>\n    <tr>\n      <th>10</th>\n      <td>Фикс</td>\n      <td>рига</td>\n      <td>42</td>\n      <td>Рабочий</td>\n    </tr>\n  </tbody>\n</table>\n</div>"
     },
     "metadata": {},
     "execution_count": 86
    }
   ],
   "source": [
    "# sample = pd.read_csv('https://lms.skillfactory.ru/assets/courseware/v1/918e647bafd21deb4413804bd4a8c865/asset-v1:Skillfactory+DST-PRO+15APR2020+type@asset+block/sample.csv')\n",
    "sample2 = sample.copy()\n",
    "sample2.City = sample2.City.apply(lambda x: str(x).lower())\n",
    "sample2"
   ]
  },
  {
   "cell_type": "code",
   "execution_count": 87,
   "metadata": {},
   "outputs": [],
   "source": [
    "def profession_code(s):\n",
    "    d = {\n",
    "        \"Рабочий\": 0,\n",
    "        \"Менеджер\": 1,\n",
    "    }\n",
    "    return d.get(s, 2)"
   ]
  },
  {
   "cell_type": "code",
   "execution_count": 90,
   "metadata": {},
   "outputs": [
    {
     "output_type": "execute_result",
     "data": {
      "text/plain": "1"
     },
     "metadata": {},
     "execution_count": 90
    }
   ],
   "source": [
    "profession_code('Менеджер')"
   ]
  },
  {
   "cell_type": "code",
   "execution_count": 91,
   "metadata": {},
   "outputs": [
    {
     "output_type": "execute_result",
     "data": {
      "text/plain": "            Name         City  Age  Profession\n0         Иванов       Москва   25           2\n1            NaN    Волгоград   31           1\n2         Иванов       Москва   25           2\n3        sidorov  Владивосток   43           1\n4        _______        Курск   50           2\n5       Кузнецов         Сочи   19           0\n6          Сажин       Сургут   29           0\n7   Котлеревский   Йошкар-Ола   32           0\n8     Завалишина    Чебоксары   36           1\n9         Левина          NaN   55           0\n10          Фикс         Рига   42           0",
      "text/html": "<div>\n<style scoped>\n    .dataframe tbody tr th:only-of-type {\n        vertical-align: middle;\n    }\n\n    .dataframe tbody tr th {\n        vertical-align: top;\n    }\n\n    .dataframe thead th {\n        text-align: right;\n    }\n</style>\n<table border=\"1\" class=\"dataframe\">\n  <thead>\n    <tr style=\"text-align: right;\">\n      <th></th>\n      <th>Name</th>\n      <th>City</th>\n      <th>Age</th>\n      <th>Profession</th>\n    </tr>\n  </thead>\n  <tbody>\n    <tr>\n      <th>0</th>\n      <td>Иванов</td>\n      <td>Москва</td>\n      <td>25</td>\n      <td>2</td>\n    </tr>\n    <tr>\n      <th>1</th>\n      <td>NaN</td>\n      <td>Волгоград</td>\n      <td>31</td>\n      <td>1</td>\n    </tr>\n    <tr>\n      <th>2</th>\n      <td>Иванов</td>\n      <td>Москва</td>\n      <td>25</td>\n      <td>2</td>\n    </tr>\n    <tr>\n      <th>3</th>\n      <td>sidorov</td>\n      <td>Владивосток</td>\n      <td>43</td>\n      <td>1</td>\n    </tr>\n    <tr>\n      <th>4</th>\n      <td>_______</td>\n      <td>Курск</td>\n      <td>50</td>\n      <td>2</td>\n    </tr>\n    <tr>\n      <th>5</th>\n      <td>Кузнецов</td>\n      <td>Сочи</td>\n      <td>19</td>\n      <td>0</td>\n    </tr>\n    <tr>\n      <th>6</th>\n      <td>Сажин</td>\n      <td>Сургут</td>\n      <td>29</td>\n      <td>0</td>\n    </tr>\n    <tr>\n      <th>7</th>\n      <td>Котлеревский</td>\n      <td>Йошкар-Ола</td>\n      <td>32</td>\n      <td>0</td>\n    </tr>\n    <tr>\n      <th>8</th>\n      <td>Завалишина</td>\n      <td>Чебоксары</td>\n      <td>36</td>\n      <td>1</td>\n    </tr>\n    <tr>\n      <th>9</th>\n      <td>Левина</td>\n      <td>NaN</td>\n      <td>55</td>\n      <td>0</td>\n    </tr>\n    <tr>\n      <th>10</th>\n      <td>Фикс</td>\n      <td>Рига</td>\n      <td>42</td>\n      <td>0</td>\n    </tr>\n  </tbody>\n</table>\n</div>"
     },
     "metadata": {},
     "execution_count": 91
    }
   ],
   "source": [
    "sample2 = sample.copy()\n",
    "sample2.Profession = sample2.Profession.apply(profession_code)\n",
    "sample2"
   ]
  },
  {
   "cell_type": "code",
   "execution_count": 92,
   "metadata": {},
   "outputs": [],
   "source": [
    "def age_category(age):\n",
    "# Ваш код ниже\n",
    "    if age < 23:\n",
    "        return \"молодой\"\n",
    "    if age > 35:\n",
    "        return \"зрелый\"\n",
    "    return \"средний\""
   ]
  },
  {
   "cell_type": "code",
   "execution_count": 93,
   "metadata": {},
   "outputs": [
    {
     "output_type": "execute_result",
     "data": {
      "text/plain": "            Name         City  Age Profession Age_category\n0         Иванов       Москва   25     Клинер      средний\n1            NaN    Волгоград   31   Менеджер      средний\n2         Иванов       Москва   25     Клинер      средний\n3        sidorov  Владивосток   43   Менеджер       зрелый\n4        _______        Курск   50   Водитель       зрелый\n5       Кузнецов         Сочи   19    Рабочий      молодой\n6          Сажин       Сургут   29    Рабочий      средний\n7   Котлеревский   Йошкар-Ола   32    Рабочий      средний\n8     Завалишина    Чебоксары   36   Менеджер       зрелый\n9         Левина          NaN   55    Рабочий       зрелый\n10          Фикс         Рига   42    Рабочий       зрелый",
      "text/html": "<div>\n<style scoped>\n    .dataframe tbody tr th:only-of-type {\n        vertical-align: middle;\n    }\n\n    .dataframe tbody tr th {\n        vertical-align: top;\n    }\n\n    .dataframe thead th {\n        text-align: right;\n    }\n</style>\n<table border=\"1\" class=\"dataframe\">\n  <thead>\n    <tr style=\"text-align: right;\">\n      <th></th>\n      <th>Name</th>\n      <th>City</th>\n      <th>Age</th>\n      <th>Profession</th>\n      <th>Age_category</th>\n    </tr>\n  </thead>\n  <tbody>\n    <tr>\n      <th>0</th>\n      <td>Иванов</td>\n      <td>Москва</td>\n      <td>25</td>\n      <td>Клинер</td>\n      <td>средний</td>\n    </tr>\n    <tr>\n      <th>1</th>\n      <td>NaN</td>\n      <td>Волгоград</td>\n      <td>31</td>\n      <td>Менеджер</td>\n      <td>средний</td>\n    </tr>\n    <tr>\n      <th>2</th>\n      <td>Иванов</td>\n      <td>Москва</td>\n      <td>25</td>\n      <td>Клинер</td>\n      <td>средний</td>\n    </tr>\n    <tr>\n      <th>3</th>\n      <td>sidorov</td>\n      <td>Владивосток</td>\n      <td>43</td>\n      <td>Менеджер</td>\n      <td>зрелый</td>\n    </tr>\n    <tr>\n      <th>4</th>\n      <td>_______</td>\n      <td>Курск</td>\n      <td>50</td>\n      <td>Водитель</td>\n      <td>зрелый</td>\n    </tr>\n    <tr>\n      <th>5</th>\n      <td>Кузнецов</td>\n      <td>Сочи</td>\n      <td>19</td>\n      <td>Рабочий</td>\n      <td>молодой</td>\n    </tr>\n    <tr>\n      <th>6</th>\n      <td>Сажин</td>\n      <td>Сургут</td>\n      <td>29</td>\n      <td>Рабочий</td>\n      <td>средний</td>\n    </tr>\n    <tr>\n      <th>7</th>\n      <td>Котлеревский</td>\n      <td>Йошкар-Ола</td>\n      <td>32</td>\n      <td>Рабочий</td>\n      <td>средний</td>\n    </tr>\n    <tr>\n      <th>8</th>\n      <td>Завалишина</td>\n      <td>Чебоксары</td>\n      <td>36</td>\n      <td>Менеджер</td>\n      <td>зрелый</td>\n    </tr>\n    <tr>\n      <th>9</th>\n      <td>Левина</td>\n      <td>NaN</td>\n      <td>55</td>\n      <td>Рабочий</td>\n      <td>зрелый</td>\n    </tr>\n    <tr>\n      <th>10</th>\n      <td>Фикс</td>\n      <td>Рига</td>\n      <td>42</td>\n      <td>Рабочий</td>\n      <td>зрелый</td>\n    </tr>\n  </tbody>\n</table>\n</div>"
     },
     "metadata": {},
     "execution_count": 93
    }
   ],
   "source": [
    "sample = pd.read_csv('https://lms.skillfactory.ru/assets/courseware/v1/918e647bafd21deb4413804bd4a8c865/asset-v1:Skillfactory+DST-PRO+15APR2020+type@asset+block/sample.csv')\n",
    "\n",
    "def age_category(age):\n",
    "    if age < 23:\n",
    "        return \"молодой\"\n",
    "    if age > 35:\n",
    "        return \"зрелый\"\n",
    "    return \"средний\"\n",
    "\n",
    "sample['Age_category'] = sample.Age.apply(age_category)\n",
    "sample"
   ]
  },
  {
   "cell_type": "code",
   "execution_count": 94,
   "metadata": {},
   "outputs": [],
   "source": [
    "def clear_user_id(user_id):\n",
    "    if user_id == '#error':\n",
    "        return ''\n",
    "    return user_id[len('Запись пользователя № - '):]"
   ]
  },
  {
   "cell_type": "code",
   "execution_count": 96,
   "metadata": {},
   "outputs": [],
   "source": [
    "log.user_id = log.user_id.apply(clear_user_id)"
   ]
  },
  {
   "cell_type": "code",
   "execution_count": 97,
   "metadata": {},
   "outputs": [
    {
     "output_type": "execute_result",
     "data": {
      "text/plain": "    user_id                  time  bet  win\n0  user_919  [2019-01-01 14:06:51  NaN  NaN\n1  user_973  [2019-01-01 14:51:16  NaN  NaN\n2  user_903  [2019-01-01 16:31:16  NaN  NaN\n3  user_954  [2019-01-01 17:17:51  NaN  NaN\n4  user_954  [2019-01-01 21:31:18  NaN  NaN",
      "text/html": "<div>\n<style scoped>\n    .dataframe tbody tr th:only-of-type {\n        vertical-align: middle;\n    }\n\n    .dataframe tbody tr th {\n        vertical-align: top;\n    }\n\n    .dataframe thead th {\n        text-align: right;\n    }\n</style>\n<table border=\"1\" class=\"dataframe\">\n  <thead>\n    <tr style=\"text-align: right;\">\n      <th></th>\n      <th>user_id</th>\n      <th>time</th>\n      <th>bet</th>\n      <th>win</th>\n    </tr>\n  </thead>\n  <tbody>\n    <tr>\n      <th>0</th>\n      <td>user_919</td>\n      <td>[2019-01-01 14:06:51</td>\n      <td>NaN</td>\n      <td>NaN</td>\n    </tr>\n    <tr>\n      <th>1</th>\n      <td>user_973</td>\n      <td>[2019-01-01 14:51:16</td>\n      <td>NaN</td>\n      <td>NaN</td>\n    </tr>\n    <tr>\n      <th>2</th>\n      <td>user_903</td>\n      <td>[2019-01-01 16:31:16</td>\n      <td>NaN</td>\n      <td>NaN</td>\n    </tr>\n    <tr>\n      <th>3</th>\n      <td>user_954</td>\n      <td>[2019-01-01 17:17:51</td>\n      <td>NaN</td>\n      <td>NaN</td>\n    </tr>\n    <tr>\n      <th>4</th>\n      <td>user_954</td>\n      <td>[2019-01-01 21:31:18</td>\n      <td>NaN</td>\n      <td>NaN</td>\n    </tr>\n  </tbody>\n</table>\n</div>"
     },
     "metadata": {},
     "execution_count": 97
    }
   ],
   "source": [
    "log.head()"
   ]
  },
  {
   "cell_type": "code",
   "execution_count": 98,
   "metadata": {},
   "outputs": [],
   "source": [
    "log = pd.read_csv('https://lms.skillfactory.ru/assets/courseware/v1/898ed1ca47bd30eb121758067cd97e2a/asset-v1:Skillfactory+DST-PRO+15APR2020+type@asset+block/log.csv', header=None)\n",
    "log.columns = ['user_id','time','bet','win']\n",
    "t = log.time[0]\n",
    "# Удалите квадратную скобку из t, чтобы привести его к более привычному формату\n",
    "t = t[1:]"
   ]
  },
  {
   "cell_type": "code",
   "execution_count": 99,
   "metadata": {},
   "outputs": [
    {
     "output_type": "execute_result",
     "data": {
      "text/plain": "'2019-01-01 14:06:51'"
     },
     "metadata": {},
     "execution_count": 99
    }
   ],
   "source": [
    "t"
   ]
  },
  {
   "cell_type": "code",
   "execution_count": 104,
   "metadata": {},
   "outputs": [
    {
     "output_type": "execute_result",
     "data": {
      "text/plain": "                              user_id                time      bet      win\n995  Запись пользователя № - user_984  2019-04-20 9:59:58   9754.0      NaN\n996                            #error                 NaN  10054.0  29265.0\n997                            #error                 NaN  10454.0      NaN\n998                            #error                 NaN   1000.0      NaN\n999                            #error                 NaN  10754.0      NaN",
      "text/html": "<div>\n<style scoped>\n    .dataframe tbody tr th:only-of-type {\n        vertical-align: middle;\n    }\n\n    .dataframe tbody tr th {\n        vertical-align: top;\n    }\n\n    .dataframe thead th {\n        text-align: right;\n    }\n</style>\n<table border=\"1\" class=\"dataframe\">\n  <thead>\n    <tr style=\"text-align: right;\">\n      <th></th>\n      <th>user_id</th>\n      <th>time</th>\n      <th>bet</th>\n      <th>win</th>\n    </tr>\n  </thead>\n  <tbody>\n    <tr>\n      <th>995</th>\n      <td>Запись пользователя № - user_984</td>\n      <td>2019-04-20 9:59:58</td>\n      <td>9754.0</td>\n      <td>NaN</td>\n    </tr>\n    <tr>\n      <th>996</th>\n      <td>#error</td>\n      <td>NaN</td>\n      <td>10054.0</td>\n      <td>29265.0</td>\n    </tr>\n    <tr>\n      <th>997</th>\n      <td>#error</td>\n      <td>NaN</td>\n      <td>10454.0</td>\n      <td>NaN</td>\n    </tr>\n    <tr>\n      <th>998</th>\n      <td>#error</td>\n      <td>NaN</td>\n      <td>1000.0</td>\n      <td>NaN</td>\n    </tr>\n    <tr>\n      <th>999</th>\n      <td>#error</td>\n      <td>NaN</td>\n      <td>10754.0</td>\n      <td>NaN</td>\n    </tr>\n  </tbody>\n</table>\n</div>"
     },
     "metadata": {},
     "execution_count": 104
    }
   ],
   "source": [
    "log = pd.read_csv('https://lms.skillfactory.ru/assets/courseware/v1/898ed1ca47bd30eb121758067cd97e2a/asset-v1:Skillfactory+DST-PRO+15APR2020+type@asset+block/log.csv', header=None)\n",
    "log.columns = ['user_id','time','bet','win']\n",
    "\n",
    "def clear_time(time):\n",
    "    try:\n",
    "        return time.replace('[', '')\n",
    "    except AttributeError:\n",
    "        return time\n",
    "\n",
    "log.time = log.time.apply(clear_time)\n",
    "log.tail()"
   ]
  },
  {
   "cell_type": "code",
   "execution_count": 105,
   "metadata": {},
   "outputs": [
    {
     "output_type": "execute_result",
     "data": {
      "text/plain": "      user_id                 time      bet     win\n991  user_965  2019-04-20 12:55:41    800.0  6927.0\n992  user_967  2019-04-20 14:59:36  10154.0     NaN\n993  user_973  2019-04-20 17:09:56  10254.0     NaN\n994  user_977  2019-04-20 18:10:07  10354.0     NaN\n995  user_984   2019-04-20 9:59:58   9754.0     NaN",
      "text/html": "<div>\n<style scoped>\n    .dataframe tbody tr th:only-of-type {\n        vertical-align: middle;\n    }\n\n    .dataframe tbody tr th {\n        vertical-align: top;\n    }\n\n    .dataframe thead th {\n        text-align: right;\n    }\n</style>\n<table border=\"1\" class=\"dataframe\">\n  <thead>\n    <tr style=\"text-align: right;\">\n      <th></th>\n      <th>user_id</th>\n      <th>time</th>\n      <th>bet</th>\n      <th>win</th>\n    </tr>\n  </thead>\n  <tbody>\n    <tr>\n      <th>991</th>\n      <td>user_965</td>\n      <td>2019-04-20 12:55:41</td>\n      <td>800.0</td>\n      <td>6927.0</td>\n    </tr>\n    <tr>\n      <th>992</th>\n      <td>user_967</td>\n      <td>2019-04-20 14:59:36</td>\n      <td>10154.0</td>\n      <td>NaN</td>\n    </tr>\n    <tr>\n      <th>993</th>\n      <td>user_973</td>\n      <td>2019-04-20 17:09:56</td>\n      <td>10254.0</td>\n      <td>NaN</td>\n    </tr>\n    <tr>\n      <th>994</th>\n      <td>user_977</td>\n      <td>2019-04-20 18:10:07</td>\n      <td>10354.0</td>\n      <td>NaN</td>\n    </tr>\n    <tr>\n      <th>995</th>\n      <td>user_984</td>\n      <td>2019-04-20 9:59:58</td>\n      <td>9754.0</td>\n      <td>NaN</td>\n    </tr>\n  </tbody>\n</table>\n</div>"
     },
     "metadata": {},
     "execution_count": 105
    }
   ],
   "source": [
    "log = pd.read_csv('https://lms.skillfactory.ru/assets/courseware/v1/898ed1ca47bd30eb121758067cd97e2a/asset-v1:Skillfactory+DST-PRO+15APR2020+type@asset+block/log.csv', header=None)\n",
    "log.columns = ['user_id','time','bet','win']\n",
    "\n",
    "def clear_time(time):\n",
    "    try:\n",
    "        return time.replace('[', '')\n",
    "    except AttributeError:\n",
    "        return time\n",
    "\n",
    "def clear_user_id(user_id):\n",
    "    if user_id == '#error':\n",
    "        return ''\n",
    "    return user_id[len('Запись пользователя № - '):]\n",
    "\n",
    "log = log[~log.user_id.str.contains('error')]\n",
    "log.user_id = log.user_id.apply(clear_user_id)\n",
    "log.time = log.time.apply(clear_time)\n",
    "log.tail()"
   ]
  },
  {
   "cell_type": "code",
   "execution_count": null,
   "metadata": {},
   "outputs": [],
   "source": []
  }
 ]
}