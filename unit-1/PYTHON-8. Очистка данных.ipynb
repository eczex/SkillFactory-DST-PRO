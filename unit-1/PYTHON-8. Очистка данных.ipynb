{
 "metadata": {
  "language_info": {
   "codemirror_mode": {
    "name": "ipython",
    "version": 3
   },
   "file_extension": ".py",
   "mimetype": "text/x-python",
   "name": "python",
   "nbconvert_exporter": "python",
   "pygments_lexer": "ipython3",
   "version": 3
  },
  "orig_nbformat": 2,
  "kernelspec": {
   "name": "python_defaultSpec_1596060302739",
   "display_name": "Python 3.7.3 64-bit ('anaconda3': virtualenv)"
  }
 },
 "nbformat": 4,
 "nbformat_minor": 2,
 "cells": [
  {
   "cell_type": "code",
   "execution_count": 1,
   "metadata": {},
   "outputs": [],
   "source": [
    "import pandas as pd"
   ]
  },
  {
   "cell_type": "code",
   "execution_count": 21,
   "metadata": {},
   "outputs": [],
   "source": [
    "log = pd.read_csv('https://lms.skillfactory.ru/assets/courseware/v1/898ed1ca47bd30eb121758067cd97e2a/asset-v1:Skillfactory+DST-PRO+15APR2020+type@asset+block/log.csv', header=None)"
   ]
  },
  {
   "cell_type": "code",
   "execution_count": 22,
   "metadata": {
    "tags": []
   },
   "outputs": [
    {
     "output_type": "stream",
     "name": "stdout",
     "text": "<class 'pandas.core.frame.DataFrame'>\nRangeIndex: 1000 entries, 0 to 999\nData columns (total 4 columns):\n0    1000 non-null object\n1    985 non-null object\n2    485 non-null float64\n3    138 non-null float64\ndtypes: float64(2), object(2)\nmemory usage: 31.3+ KB\n"
    }
   ],
   "source": [
    "log.info()"
   ]
  },
  {
   "cell_type": "code",
   "execution_count": 23,
   "metadata": {},
   "outputs": [
    {
     "output_type": "execute_result",
     "data": {
      "text/plain": "                                   0                     1         2  \\\n0   Запись пользователя № - user_919  [2019-01-01 14:06:51       NaN   \n1   Запись пользователя № - user_973  [2019-01-01 14:51:16       NaN   \n2   Запись пользователя № - user_903  [2019-01-01 16:31:16       NaN   \n3   Запись пользователя № - user_954  [2019-01-01 17:17:51       NaN   \n4   Запись пользователя № - user_954  [2019-01-01 21:31:18       NaN   \n5   Запись пользователя № - user_917  [2019-01-01 23:34:55  156789.0   \n6   Запись пользователя № - user_900   [2019-01-01 4:37:25       NaN   \n7   Запись пользователя № - user_980   [2019-01-01 6:31:23       NaN   \n8   Запись пользователя № - user_906  [2019-01-02 10:57:08       NaN   \n9   Запись пользователя № - user_952  [2019-01-02 16:55:06       NaN   \n10  Запись пользователя № - user_972  [2019-01-02 20:47:54       NaN   \n11  Запись пользователя № - user_966  [2019-01-02 21:32:20       NaN   \n12  Запись пользователя № - user_964  [2019-01-02 21:32:35       NaN   \n13  Запись пользователя № - user_978   [2019-01-02 5:25:40       NaN   \n14  Запись пользователя № - user_917   [2019-01-02 8:57:36  145732.0   \n\n            3  \n0         NaN  \n1         NaN  \n2         NaN  \n3         NaN  \n4         NaN  \n5         NaN  \n6         NaN  \n7         NaN  \n8         NaN  \n9         NaN  \n10        NaN  \n11        NaN  \n12        NaN  \n13        NaN  \n14  1987653.0  ",
      "text/html": "<div>\n<style scoped>\n    .dataframe tbody tr th:only-of-type {\n        vertical-align: middle;\n    }\n\n    .dataframe tbody tr th {\n        vertical-align: top;\n    }\n\n    .dataframe thead th {\n        text-align: right;\n    }\n</style>\n<table border=\"1\" class=\"dataframe\">\n  <thead>\n    <tr style=\"text-align: right;\">\n      <th></th>\n      <th>0</th>\n      <th>1</th>\n      <th>2</th>\n      <th>3</th>\n    </tr>\n  </thead>\n  <tbody>\n    <tr>\n      <th>0</th>\n      <td>Запись пользователя № - user_919</td>\n      <td>[2019-01-01 14:06:51</td>\n      <td>NaN</td>\n      <td>NaN</td>\n    </tr>\n    <tr>\n      <th>1</th>\n      <td>Запись пользователя № - user_973</td>\n      <td>[2019-01-01 14:51:16</td>\n      <td>NaN</td>\n      <td>NaN</td>\n    </tr>\n    <tr>\n      <th>2</th>\n      <td>Запись пользователя № - user_903</td>\n      <td>[2019-01-01 16:31:16</td>\n      <td>NaN</td>\n      <td>NaN</td>\n    </tr>\n    <tr>\n      <th>3</th>\n      <td>Запись пользователя № - user_954</td>\n      <td>[2019-01-01 17:17:51</td>\n      <td>NaN</td>\n      <td>NaN</td>\n    </tr>\n    <tr>\n      <th>4</th>\n      <td>Запись пользователя № - user_954</td>\n      <td>[2019-01-01 21:31:18</td>\n      <td>NaN</td>\n      <td>NaN</td>\n    </tr>\n    <tr>\n      <th>5</th>\n      <td>Запись пользователя № - user_917</td>\n      <td>[2019-01-01 23:34:55</td>\n      <td>156789.0</td>\n      <td>NaN</td>\n    </tr>\n    <tr>\n      <th>6</th>\n      <td>Запись пользователя № - user_900</td>\n      <td>[2019-01-01 4:37:25</td>\n      <td>NaN</td>\n      <td>NaN</td>\n    </tr>\n    <tr>\n      <th>7</th>\n      <td>Запись пользователя № - user_980</td>\n      <td>[2019-01-01 6:31:23</td>\n      <td>NaN</td>\n      <td>NaN</td>\n    </tr>\n    <tr>\n      <th>8</th>\n      <td>Запись пользователя № - user_906</td>\n      <td>[2019-01-02 10:57:08</td>\n      <td>NaN</td>\n      <td>NaN</td>\n    </tr>\n    <tr>\n      <th>9</th>\n      <td>Запись пользователя № - user_952</td>\n      <td>[2019-01-02 16:55:06</td>\n      <td>NaN</td>\n      <td>NaN</td>\n    </tr>\n    <tr>\n      <th>10</th>\n      <td>Запись пользователя № - user_972</td>\n      <td>[2019-01-02 20:47:54</td>\n      <td>NaN</td>\n      <td>NaN</td>\n    </tr>\n    <tr>\n      <th>11</th>\n      <td>Запись пользователя № - user_966</td>\n      <td>[2019-01-02 21:32:20</td>\n      <td>NaN</td>\n      <td>NaN</td>\n    </tr>\n    <tr>\n      <th>12</th>\n      <td>Запись пользователя № - user_964</td>\n      <td>[2019-01-02 21:32:35</td>\n      <td>NaN</td>\n      <td>NaN</td>\n    </tr>\n    <tr>\n      <th>13</th>\n      <td>Запись пользователя № - user_978</td>\n      <td>[2019-01-02 5:25:40</td>\n      <td>NaN</td>\n      <td>NaN</td>\n    </tr>\n    <tr>\n      <th>14</th>\n      <td>Запись пользователя № - user_917</td>\n      <td>[2019-01-02 8:57:36</td>\n      <td>145732.0</td>\n      <td>1987653.0</td>\n    </tr>\n  </tbody>\n</table>\n</div>"
     },
     "metadata": {},
     "execution_count": 23
    }
   ],
   "source": [
    "log.head(15)"
   ]
  },
  {
   "cell_type": "code",
   "execution_count": 14,
   "metadata": {},
   "outputs": [],
   "source": [
    "sample = pd.read_csv('https://lms.skillfactory.ru/assets/courseware/v1/918e647bafd21deb4413804bd4a8c865/asset-v1:Skillfactory+DST-PRO+15APR2020+type@asset+block/sample.csv')"
   ]
  },
  {
   "cell_type": "code",
   "execution_count": 15,
   "metadata": {},
   "outputs": [],
   "source": [
    "columns = sample.columns"
   ]
  },
  {
   "cell_type": "code",
   "execution_count": 16,
   "metadata": {},
   "outputs": [],
   "source": [
    "sample.columns = [x.lower() for x in sample.columns]"
   ]
  },
  {
   "cell_type": "code",
   "execution_count": 17,
   "metadata": {},
   "outputs": [
    {
     "output_type": "execute_result",
     "data": {
      "text/plain": "Index(['name', 'city', 'age', 'profession'], dtype='object')"
     },
     "metadata": {},
     "execution_count": 17
    }
   ],
   "source": [
    "sample.columns"
   ]
  },
  {
   "cell_type": "code",
   "execution_count": 24,
   "metadata": {},
   "outputs": [],
   "source": [
    "log.columns = ['user_id', 'time', 'bet', 'win', ]"
   ]
  },
  {
   "cell_type": "code",
   "execution_count": 25,
   "metadata": {
    "tags": []
   },
   "outputs": [
    {
     "output_type": "stream",
     "name": "stdout",
     "text": "<class 'pandas.core.frame.DataFrame'>\nRangeIndex: 1000 entries, 0 to 999\nData columns (total 4 columns):\nuser_id    1000 non-null object\ntime       985 non-null object\nbet        485 non-null float64\nwin        138 non-null float64\ndtypes: float64(2), object(2)\nmemory usage: 31.3+ KB\n"
    }
   ],
   "source": [
    "log.info()"
   ]
  },
  {
   "cell_type": "code",
   "execution_count": 26,
   "metadata": {},
   "outputs": [
    {
     "output_type": "execute_result",
     "data": {
      "text/plain": "                bet           win\ncount  4.850000e+02  1.380000e+02\nmean   6.785738e+03  9.562102e+04\nstd    7.720292e+04  8.554669e+05\nmin    1.000000e+02  3.691000e+03\n25%    3.000000e+02  5.096250e+03\n50%    6.000000e+02  5.935000e+03\n75%    9.000000e+02  6.978750e+03\nmax    1.678321e+06  9.876543e+06",
      "text/html": "<div>\n<style scoped>\n    .dataframe tbody tr th:only-of-type {\n        vertical-align: middle;\n    }\n\n    .dataframe tbody tr th {\n        vertical-align: top;\n    }\n\n    .dataframe thead th {\n        text-align: right;\n    }\n</style>\n<table border=\"1\" class=\"dataframe\">\n  <thead>\n    <tr style=\"text-align: right;\">\n      <th></th>\n      <th>bet</th>\n      <th>win</th>\n    </tr>\n  </thead>\n  <tbody>\n    <tr>\n      <th>count</th>\n      <td>4.850000e+02</td>\n      <td>1.380000e+02</td>\n    </tr>\n    <tr>\n      <th>mean</th>\n      <td>6.785738e+03</td>\n      <td>9.562102e+04</td>\n    </tr>\n    <tr>\n      <th>std</th>\n      <td>7.720292e+04</td>\n      <td>8.554669e+05</td>\n    </tr>\n    <tr>\n      <th>min</th>\n      <td>1.000000e+02</td>\n      <td>3.691000e+03</td>\n    </tr>\n    <tr>\n      <th>25%</th>\n      <td>3.000000e+02</td>\n      <td>5.096250e+03</td>\n    </tr>\n    <tr>\n      <th>50%</th>\n      <td>6.000000e+02</td>\n      <td>5.935000e+03</td>\n    </tr>\n    <tr>\n      <th>75%</th>\n      <td>9.000000e+02</td>\n      <td>6.978750e+03</td>\n    </tr>\n    <tr>\n      <th>max</th>\n      <td>1.678321e+06</td>\n      <td>9.876543e+06</td>\n    </tr>\n  </tbody>\n</table>\n</div>"
     },
     "metadata": {},
     "execution_count": 26
    }
   ],
   "source": [
    "log.describe()"
   ]
  },
  {
   "cell_type": "code",
   "execution_count": 47,
   "metadata": {},
   "outputs": [],
   "source": [
    "users = pd.read_csv('https://lms.skillfactory.ru/assets/courseware/v1/5471c5ea3f70b9fefce686c669d5ce2c/asset-v1:Skillfactory+DST-PRO+15APR2020+type@asset+block/users.csv', encoding='koi8_r', sep='\\t', names=['user_id', 'email', 'geo', ])"
   ]
  },
  {
   "cell_type": "code",
   "execution_count": 48,
   "metadata": {
    "tags": []
   },
   "outputs": [
    {
     "output_type": "stream",
     "name": "stdout",
     "text": "<class 'pandas.core.frame.DataFrame'>\nRangeIndex: 101 entries, 0 to 100\nData columns (total 3 columns):\nuser_id    101 non-null object\nemail      100 non-null object\ngeo        98 non-null object\ndtypes: object(3)\nmemory usage: 2.4+ KB\n"
    }
   ],
   "source": [
    "users.info()"
   ]
  },
  {
   "cell_type": "code",
   "execution_count": null,
   "metadata": {},
   "outputs": [],
   "source": [
    "users.columns = ['user_id', 'email', 'geo', ]"
   ]
  }
 ]
}